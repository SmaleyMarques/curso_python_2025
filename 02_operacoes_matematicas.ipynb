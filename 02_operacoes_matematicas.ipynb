{
 "cells": [
  {
   "cell_type": "markdown",
   "id": "96cb61b3",
   "metadata": {},
   "source": [
    "## Operações Matemáticas em Python\n",
    "### Principais operações e suas respectivas sintaxes"
   ]
  },
  {
   "cell_type": "code",
   "execution_count": 9,
   "id": "5775aa4f",
   "metadata": {},
   "outputs": [
    {
     "name": "stdout",
     "output_type": "stream",
     "text": [
      "1 + 1 =  2\n"
     ]
    }
   ],
   "source": [
    "# Soma\n",
    "\n",
    "print(\"1 + 1 = \", 1 + 1)"
   ]
  },
  {
   "cell_type": "code",
   "execution_count": 10,
   "id": "59a93232",
   "metadata": {},
   "outputs": [
    {
     "name": "stdout",
     "output_type": "stream",
     "text": [
      "1 - 1 =  0\n"
     ]
    }
   ],
   "source": [
    "# Subtração\n",
    "\n",
    "print(\"1 - 1 = \", 1 - 1)"
   ]
  },
  {
   "cell_type": "code",
   "execution_count": 11,
   "id": "ab7332fc",
   "metadata": {},
   "outputs": [
    {
     "name": "stdout",
     "output_type": "stream",
     "text": [
      "1 X 1 =  1\n"
     ]
    }
   ],
   "source": [
    "# Multiplicação\n",
    "\n",
    "print(\"1 X 1 = \", 1 * 1)"
   ]
  },
  {
   "cell_type": "code",
   "execution_count": 12,
   "id": "9c17d810",
   "metadata": {},
   "outputs": [
    {
     "name": "stdout",
     "output_type": "stream",
     "text": [
      "1 / 1 = 1.0\n"
     ]
    }
   ],
   "source": [
    "# Divisão\n",
    "\n",
    "print(\"1 / 1 =\", 1 / 1)"
   ]
  },
  {
   "cell_type": "code",
   "execution_count": 13,
   "id": "05e4f34c",
   "metadata": {},
   "outputs": [
    {
     "name": "stdout",
     "output_type": "stream",
     "text": [
      "1 // 1 = 1\n"
     ]
    }
   ],
   "source": [
    "# Divisão com parte interna\n",
    "\n",
    "print(\"1 // 1 =\", 1 // 1)"
   ]
  },
  {
   "cell_type": "code",
   "execution_count": 14,
   "id": "c64f933b",
   "metadata": {
    "lines_to_next_cell": 0
   },
   "outputs": [
    {
     "name": "stdout",
     "output_type": "stream",
     "text": [
      "1 % 1 = 0\n"
     ]
    }
   ],
   "source": [
    "# Divisão com parte resto\n",
    "\n",
    "print(\"1 % 1 =\", 1 % 1)"
   ]
  },
  {
   "cell_type": "code",
   "execution_count": null,
   "id": "d4a3a7a6",
   "metadata": {},
   "outputs": [
    {
     "name": "stdout",
     "output_type": "stream",
     "text": [
      "1 ^ 1 = 1\n"
     ]
    }
   ],
   "source": [
    "# Potenciação\n",
    "\n",
    "print(\"1 ^ 1 =\", 1 ** 1)"
   ]
  },
  {
   "cell_type": "code",
   "execution_count": 16,
   "id": "3ae71705",
   "metadata": {},
   "outputs": [
    {
     "name": "stdout",
     "output_type": "stream",
     "text": [
      "Raiz Quadrada de 4 =  3.0\n"
     ]
    }
   ],
   "source": [
    "# Radiciação\n",
    "\n",
    "print(\"Raiz Quadrada de 4 = \", 9 ** (1/2)) "
   ]
  }
 ],
 "metadata": {
  "jupytext": {
   "cell_metadata_filter": "-all",
   "main_language": "python",
   "notebook_metadata_filter": "-all"
  },
  "kernelspec": {
   "display_name": "base",
   "language": "python",
   "name": "python3"
  },
  "language_info": {
   "codemirror_mode": {
    "name": "ipython",
    "version": 3
   },
   "file_extension": ".py",
   "mimetype": "text/x-python",
   "name": "python",
   "nbconvert_exporter": "python",
   "pygments_lexer": "ipython3",
   "version": "3.12.7"
  }
 },
 "nbformat": 4,
 "nbformat_minor": 5
}

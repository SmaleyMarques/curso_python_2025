{
 "cells": [
  {
   "cell_type": "markdown",
   "id": "3470dda0",
   "metadata": {},
   "source": [
    "## Craindo e Atribuindo valores a variáveis Python\n",
    "### Variáveis armazenam valor em memória que por sua vez passará a ser chamado pelo nome da variável\n",
    "\n",
    "#### Caracteristicas:\n",
    "- Não pode ter nome começando em número\n",
    "- Não pode ter nome de alguma palavra reservada python. ex: _print_\n",
    "- Não pode ter caracter especial\n",
    "- Compreende a formatação _Case Sensitive_\n",
    "- É criada no momento da atribuição\n",
    "- É tipada automáticamente\n",
    "- Substitui valor alocado a partir de uma nova atribuição"
   ]
  },
  {
   "cell_type": "code",
   "execution_count": 3,
   "id": "0ec3be37",
   "metadata": {},
   "outputs": [
    {
     "name": "stdout",
     "output_type": "stream",
     "text": [
      "Smaley, Smaley Marques, Smaley Marques Marins Vieira Ferreira, Smaley Marques Ferreira\n"
     ]
    }
   ],
   "source": [
    "# NOMEANDO VARIÁVEIS:\n",
    "\n",
    "nome = \"Smaley\"\n",
    "Nome = 'Smaley Marques'\n",
    "_nome = '''Smaley Marques Marins Vieira Ferreira'''\n",
    "_Nome = \"\"\"Smaley Marques Ferreira\"\"\"\n",
    "\n",
    "print(nome, Nome, _nome, _Nome, sep=\", \")"
   ]
  },
  {
   "cell_type": "code",
   "execution_count": 1,
   "id": "748ab062",
   "metadata": {},
   "outputs": [
    {
     "name": "stdout",
     "output_type": "stream",
     "text": [
      "Qual é a minha idade?\n",
      "32\n",
      "Não, 33\n"
     ]
    }
   ],
   "source": [
    "# SUBSTITUINDO VALORES\n",
    "\n",
    "print(\"Qual é a minha idade?\")\n",
    "\n",
    "idade = \"32\"\n",
    "\n",
    "print(idade)\n",
    "\n",
    "idade = \"Não, 33\"\n",
    "\n",
    "print(idade)"
   ]
  },
  {
   "cell_type": "code",
   "execution_count": 5,
   "id": "859dcd64",
   "metadata": {},
   "outputs": [
    {
     "name": "stdout",
     "output_type": "stream",
     "text": [
      "{'__name__': '__main__', '__doc__': 'Automatically created module for IPython interactive environment', '__package__': None, '__loader__': None, '__spec__': None, '__builtin__': <module 'builtins' (built-in)>, '__builtins__': <module 'builtins' (built-in)>, '_ih': ['', '# SUBSTITUINDO VALORES\\n\\nprint(\"Qual é a minha idade?\")\\n\\nidade = \"32\"\\n\\nprint(idade)\\n\\nidade = \"Não, 33\"\\n\\nprint(idade)', '# EXIBINDO VARIÁVEIS CRIADAS\\n\\nprint(locals())', '# NOMEANDO VARIÁVEIS:\\n\\nnome = \"Smaley\"\\nNome = \\'Smaley Marques\\'\\n_nome = \\'\\'\\'Smaley Marques Marins Vieira Ferreira\\'\\'\\'\\n_Nome = \"\"\"Smaley Marques Ferreira\"\"\"\\n\\nprint(nome, Nome, _nome, _Nome, sep=\", \")', '# EXIBINDO VARIÁVEIS CRIADAS\\n\\nprint(globals())', '# EXIBINDO VARIÁVEIS CRIADAS\\n\\nprint(locals())'], '_oh': {}, '_dh': [WindowsPath('c:/Users/Smaley/Documents/Smaley/Cursos/TeoMeWhy/curso_python_2025/Módulo_01')], 'In': ['', '# SUBSTITUINDO VALORES\\n\\nprint(\"Qual é a minha idade?\")\\n\\nidade = \"32\"\\n\\nprint(idade)\\n\\nidade = \"Não, 33\"\\n\\nprint(idade)', '# EXIBINDO VARIÁVEIS CRIADAS\\n\\nprint(locals())', '# NOMEANDO VARIÁVEIS:\\n\\nnome = \"Smaley\"\\nNome = \\'Smaley Marques\\'\\n_nome = \\'\\'\\'Smaley Marques Marins Vieira Ferreira\\'\\'\\'\\n_Nome = \"\"\"Smaley Marques Ferreira\"\"\"\\n\\nprint(nome, Nome, _nome, _Nome, sep=\", \")', '# EXIBINDO VARIÁVEIS CRIADAS\\n\\nprint(globals())', '# EXIBINDO VARIÁVEIS CRIADAS\\n\\nprint(locals())'], 'Out': {}, 'get_ipython': <bound method InteractiveShell.get_ipython of <ipykernel.zmqshell.ZMQInteractiveShell object at 0x00000218505F4F20>>, 'exit': <IPython.core.autocall.ZMQExitAutocall object at 0x00000218505F40E0>, 'quit': <IPython.core.autocall.ZMQExitAutocall object at 0x00000218505F40E0>, 'open': <function open at 0x000002184E603880>, '_': '', '__': '', '___': '', '__vsc_ipynb_file__': 'c:\\\\Users\\\\Smaley\\\\Documents\\\\Smaley\\\\Cursos\\\\TeoMeWhy\\\\curso_python_2025\\\\Módulo_01\\\\03_variaveis.ipynb', '_i': '# EXIBINDO VARIÁVEIS CRIADAS\\n\\nprint(globals())', '_ii': '# NOMEANDO VARIÁVEIS:\\n\\nnome = \"Smaley\"\\nNome = \\'Smaley Marques\\'\\n_nome = \\'\\'\\'Smaley Marques Marins Vieira Ferreira\\'\\'\\'\\n_Nome = \"\"\"Smaley Marques Ferreira\"\"\"\\n\\nprint(nome, Nome, _nome, _Nome, sep=\", \")', '_iii': '# EXIBINDO VARIÁVEIS CRIADAS\\n\\nprint(locals())', '_i1': '# SUBSTITUINDO VALORES\\n\\nprint(\"Qual é a minha idade?\")\\n\\nidade = \"32\"\\n\\nprint(idade)\\n\\nidade = \"Não, 33\"\\n\\nprint(idade)', 'idade': 'Não, 33', '_i2': '# EXIBINDO VARIÁVEIS CRIADAS\\n\\nprint(locals())', '_i3': '# NOMEANDO VARIÁVEIS:\\n\\nnome = \"Smaley\"\\nNome = \\'Smaley Marques\\'\\n_nome = \\'\\'\\'Smaley Marques Marins Vieira Ferreira\\'\\'\\'\\n_Nome = \"\"\"Smaley Marques Ferreira\"\"\"\\n\\nprint(nome, Nome, _nome, _Nome, sep=\", \")', 'nome': 'Smaley', 'Nome': 'Smaley Marques', '_nome': 'Smaley Marques Marins Vieira Ferreira', '_Nome': 'Smaley Marques Ferreira', '_i4': '# EXIBINDO VARIÁVEIS CRIADAS\\n\\nprint(globals())', '_i5': '# EXIBINDO VARIÁVEIS CRIADAS\\n\\nprint(locals())'}\n"
     ]
    }
   ],
   "source": [
    "# EXIBINDO VARIÁVEIS CRIADAS\n",
    "\n",
    "print(locals())"
   ]
  }
 ],
 "metadata": {
  "jupytext": {
   "cell_metadata_filter": "-all",
   "main_language": "python",
   "notebook_metadata_filter": "-all"
  },
  "kernelspec": {
   "display_name": "base",
   "language": "python",
   "name": "python3"
  },
  "language_info": {
   "codemirror_mode": {
    "name": "ipython",
    "version": 3
   },
   "file_extension": ".py",
   "mimetype": "text/x-python",
   "name": "python",
   "nbconvert_exporter": "python",
   "pygments_lexer": "ipython3",
   "version": "3.12.7"
  }
 },
 "nbformat": 4,
 "nbformat_minor": 5
}

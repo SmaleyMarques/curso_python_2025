{
 "cells": [
  {
   "cell_type": "markdown",
   "id": "96cb61b3",
   "metadata": {},
   "source": [
    "## Operações Matemáticas em Python\n",
    "### Principais operações e suas respectivas sintaxes"
   ]
  },
  {
   "cell_type": "code",
   "execution_count": null,
   "id": "5775aa4f",
   "metadata": {},
   "outputs": [],
   "source": [
    "#SOMA\n",
    "\n",
    "print(\"1 + 1 = \", 1 + 1)"
   ]
  },
  {
   "cell_type": "code",
   "execution_count": null,
   "id": "59a93232",
   "metadata": {},
   "outputs": [],
   "source": [
    "#SUBITRAÇÃO\n",
    "\n",
    "print(\"1 - 1 = \", 1 - 1)"
   ]
  },
  {
   "cell_type": "code",
   "execution_count": null,
   "id": "ab7332fc",
   "metadata": {},
   "outputs": [],
   "source": [
    "#MULTIPLICAÇÃO\n",
    "\n",
    "print(\"1 X 1 = \", 1 * 1)"
   ]
  },
  {
   "cell_type": "code",
   "execution_count": null,
   "id": "9c17d810",
   "metadata": {},
   "outputs": [],
   "source": [
    "#DIVISÃO\n",
    "\n",
    "print(\"1 / 1 =\", 1 / 1)"
   ]
  },
  {
   "cell_type": "code",
   "execution_count": null,
   "id": "05e4f34c",
   "metadata": {},
   "outputs": [],
   "source": [
    "#DIVISÃO COM PARTE INTEIRA\n",
    "\n",
    "print(\"1 // 1 =\", 1 // 1)"
   ]
  },
  {
   "cell_type": "code",
   "execution_count": null,
   "id": "c64f933b",
   "metadata": {
    "lines_to_next_cell": 0
   },
   "outputs": [],
   "source": [
    "#DIVISÃO COM PARTE RESTO\n",
    "\n",
    "print(\"1 % 1 =\", 1 % 1)"
   ]
  },
  {
   "cell_type": "code",
   "execution_count": null,
   "id": "d4a3a7a6",
   "metadata": {},
   "outputs": [],
   "source": [
    "#POTÊNCIAÇÃO\n",
    "\n",
    "print(\"1 ^ 1 =\", 1 ** 1)"
   ]
  },
  {
   "cell_type": "code",
   "execution_count": null,
   "id": "3ae71705",
   "metadata": {},
   "outputs": [],
   "source": [
    "#RADICIAÇÃO\n",
    "\n",
    "print(\"Raiz Quadrada de 4 = \", 9 ** (1/2)) "
   ]
  }
 ],
 "metadata": {
  "jupytext": {
   "cell_metadata_filter": "-all",
   "main_language": "python",
   "notebook_metadata_filter": "-all"
  },
  "language_info": {
   "name": "python"
  }
 },
 "nbformat": 4,
 "nbformat_minor": 5
}

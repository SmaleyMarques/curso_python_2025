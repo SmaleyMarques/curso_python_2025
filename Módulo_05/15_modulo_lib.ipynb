{
 "cells": [
  {
   "cell_type": "markdown",
   "id": "de04ee8f",
   "metadata": {},
   "source": [
    "## Módulos e Bibliotécas em Python\n",
    "\n",
    "### Sintaxe:\n",
    "\n",
    "- Palavra reservada **_import_** + `<nome do módulo ou bibliotéca>` (+ ou não) palavra reservada **_as_** `<alias - nome amigável>`\n",
    "- (ou) Palavra reservada **_from_** + `<nome do módulo ou bibliotéca>` + **_import_** `<nome da função ou funções separados por \",\">`\n"
   ]
  },
  {
   "cell_type": "code",
   "execution_count": 1,
   "id": "274a3831",
   "metadata": {
    "lines_to_next_cell": 0
   },
   "outputs": [
    {
     "name": "stdout",
     "output_type": "stream",
     "text": [
      "13.0\n",
      "3.0\n"
     ]
    }
   ],
   "source": [
    "import modulo_teste as md\n",
    "\n",
    "raiz_quadrada = md.sqrt(169)\n",
    "\n",
    "print(raiz_quadrada)\n",
    "\n",
    "raiz_cubica = md.cbrt(27)\n",
    "\n",
    "print(raiz_cubica)"
   ]
  },
  {
   "cell_type": "code",
   "execution_count": 2,
   "id": "21c2b3ea",
   "metadata": {},
   "outputs": [
    {
     "name": "stdout",
     "output_type": "stream",
     "text": [
      "16.0\n"
     ]
    }
   ],
   "source": [
    "import math as mt\n",
    "\n",
    "print(mt.sqrt(256))"
   ]
  }
 ],
 "metadata": {
  "jupytext": {
   "cell_metadata_filter": "-all",
   "main_language": "python",
   "notebook_metadata_filter": "-all"
  },
  "kernelspec": {
   "display_name": "base",
   "language": "python",
   "name": "python3"
  },
  "language_info": {
   "codemirror_mode": {
    "name": "ipython",
    "version": 3
   },
   "file_extension": ".py",
   "mimetype": "text/x-python",
   "name": "python",
   "nbconvert_exporter": "python",
   "pygments_lexer": "ipython3",
   "version": "3.12.7"
  }
 },
 "nbformat": 4,
 "nbformat_minor": 5
}

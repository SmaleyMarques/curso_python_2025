{
 "cells": [
  {
   "cell_type": "markdown",
   "id": "9b719ed7",
   "metadata": {},
   "source": [
    "## Funções em Python\n",
    "\n",
    "### Sintaxe:\n",
    "\n",
    "- Palavra reservada **_def_** + `<nome da funcão>` + \"(\" (+ ou não) `<argumentos>` + \")\" + \":\" + `<código a executar a função>`\n",
    "- o código a executar deve ser escrito na mesma linha ou identado abaixo"
   ]
  },
  {
   "cell_type": "code",
   "execution_count": null,
   "id": "ccc336e8",
   "metadata": {
    "lines_to_next_cell": 1
   },
   "outputs": [],
   "source": [
    "#FUNÇÕES = REAPROVEITAMENTO DE CÓDIGO\n",
    "\n",
    "def ola_mundo(): #PALAVA RESERVADA DEF + NOME DA FUNÇÃO\n",
    "    print(\"ola_mundo!\") \n",
    "\n",
    "def soma(termo1,termo2): #PALAVA RESERVADA DEF + NOME DA FUNÇÃO + ARGUMENTOS:\n",
    "    resultado = termo1 + termo2\n",
    "    return resultado\n",
    "\n",
    "def subtracao(termo1,termo2):\n",
    "    resultado = termo1 - termo2\n",
    "    return resultado\n",
    "\n",
    "def multiplicacao(termo1,termo2):\n",
    "    resultado = termo1 * termo2\n",
    "    return resultado\n",
    "\n",
    "def divisao(termo1,termo2):\n",
    "    resultado = termo1 / termo2\n",
    "    return resultado\n",
    "\n",
    "ola_mundo()\n",
    "\n",
    "print('resultado da soma: ', soma(1,1))\n",
    "\n",
    "print('resultado da subtração: ',subtracao(1,1))\n",
    "\n",
    "print('resultado da multiplicação: ', multiplicacao(1,1))\n",
    "\n",
    "print('resultado da divisão: ', divisao(1,1))\n",
    "\n",
    "def juros_compostos(taxa, aporte, anos):\n",
    "    return aporte * (1 + taxa) ** anos\n",
    "\n",
    "print(juros_compostos(taxa=0.13, aporte= 1000, anos =4))\n",
    "print(juros_compostos(aporte= 1000, taxa=0.13, anos =4)) #MUDANDO A ORDEM DOS PARAMETROS"
   ]
  },
  {
   "cell_type": "code",
   "execution_count": null,
   "id": "e6c4c64a",
   "metadata": {
    "lines_to_next_cell": 1
   },
   "outputs": [],
   "source": [
    "#DOCUMENTAÇÃO DA FUNÇÃO (DOC STRING)\n",
    "\n",
    "def juros_compostos(taxa:float, aporte:float, anos:int)->float: #DICA DE TIPAGEM (TYPE HINT)\n",
    "    \"\"\"juros_compostos cálcula o retorno financeiro a partir de um aporte.\n",
    "Deve-se considerar o valor, a taxa de juros aplicável e o tempo (em anos) para cálculo de valor a ser retornado\n",
    "    \n",
    "aporte:\n",
    "    um número > 0 que represemte o valor em R$\n",
    "\n",
    "taxa:\n",
    "    um número float entre 0 e 1 que represente o valor de taxa de juros\n",
    "\n",
    "anos:\n",
    "    um número inteiro > 0 que repesente o tempo que o investimento terá de liquidez\n",
    "    \"\"\"\n",
    "    return aporte * (1 + taxa) ** anos\n",
    "\n",
    "juros_compostos(taxa= 0.04, aporte=1000, anos=13)"
   ]
  },
  {
   "cell_type": "markdown",
   "id": "ed6ac0a0",
   "metadata": {},
   "source": [
    "### Argumentos opcionais:\n",
    "\n",
    "- Sempre ao fim dos argumentos\n",
    "- Seguido de um valor padrão (valor preferencial caso não informado outro valor durante a chamada da função)"
   ]
  },
  {
   "cell_type": "code",
   "execution_count": 4,
   "id": "b6b44cbc",
   "metadata": {
    "lines_to_next_cell": 1
   },
   "outputs": [
    {
     "name": "stdout",
     "output_type": "stream",
     "text": [
      "40799.56889737304\n",
      "33718.65198130003\n"
     ]
    }
   ],
   "source": [
    "#FUNÇÃO COM ARGUMENTO OPICIONAL\n",
    "\n",
    "def juros_compostos(taxa, aporte, anos=12): \n",
    "    return aporte * (1 + taxa) ** anos\n",
    "\n",
    "print(juros_compostos(0.1, 13000))\n",
    "print(juros_compostos(0.1, 13000, 10))"
   ]
  },
  {
   "cell_type": "markdown",
   "id": "cd84e029",
   "metadata": {},
   "source": [
    "### Multiplos argumentos opcionais:\n",
    "\n",
    "- Sempre ao fim dos argumentos\n",
    "- args Sintaxe: * + args (\"args\" = nome por convenção - uma variável que armazena uma tupla de vários valores sem quantidade definida)\n",
    "- kwargs Sintaxe: ** + kwargs (\"kwargs\" = nome por convenção - uma variável que armazena um dicionário de várias itens (chave/valor) sem quantidade definida)\n"
   ]
  },
  {
   "cell_type": "code",
   "execution_count": 5,
   "id": "1d71429b",
   "metadata": {
    "lines_to_next_cell": 1
   },
   "outputs": [
    {
     "name": "stdout",
     "output_type": "stream",
     "text": [
      "Média de Valores de 1-9: 5.0\n"
     ]
    }
   ],
   "source": [
    "#FUNÇÃO COM MULTIPLOS ARGUMENTO OPICIONAIS (*ARGS)\n",
    "\n",
    "def somar(termo1, termo2, *args): \n",
    "    valores = [termo1, termo2] + list(args)\n",
    "    return sum(valores)\n",
    "\n",
    "def media(termo1, termo2, *args):\n",
    "    valores = [termo1, termo2] + list(args)\n",
    "    return somar(termo1, termo2, *args) / len(valores)\n",
    "\n",
    "print(\"Média de Valores de 1-9:\", media(*range(1,10)))"
   ]
  },
  {
   "cell_type": "code",
   "execution_count": 6,
   "id": "c46a87d8",
   "metadata": {},
   "outputs": [
    {
     "name": "stdout",
     "output_type": "stream",
     "text": [
      "municipal 0.01\n",
      "estadual 0.005\n",
      "nacional 0.001\n"
     ]
    },
    {
     "data": {
      "text/plain": [
       "4.6"
      ]
     },
     "execution_count": 6,
     "metadata": {},
     "output_type": "execute_result"
    }
   ],
   "source": [
    "#FUNÇÃO COM MULTIPLOS ARGUMENTO OPICIONAIS NOMEADOS (**KWARGS)\n",
    "def calc_imposto(preco:float, tx_base:float, **kwargs):\n",
    "    imposto = preco * tx_base\n",
    "\n",
    "    for i in kwargs:\n",
    "        print(i, kwargs[i])\n",
    "        imposto += preco * kwargs[i]\n",
    "    \n",
    "    return imposto\n",
    "\n",
    "calc_imposto(100, 0.03, municipal=0.01, estadual=0.005, nacional= 0.001)"
   ]
  }
 ],
 "metadata": {
  "jupytext": {
   "cell_metadata_filter": "-all",
   "main_language": "python",
   "notebook_metadata_filter": "-all"
  },
  "kernelspec": {
   "display_name": "base",
   "language": "python",
   "name": "python3"
  },
  "language_info": {
   "codemirror_mode": {
    "name": "ipython",
    "version": 3
   },
   "file_extension": ".py",
   "mimetype": "text/x-python",
   "name": "python",
   "nbconvert_exporter": "python",
   "pygments_lexer": "ipython3",
   "version": "3.12.7"
  }
 },
 "nbformat": 4,
 "nbformat_minor": 5
}

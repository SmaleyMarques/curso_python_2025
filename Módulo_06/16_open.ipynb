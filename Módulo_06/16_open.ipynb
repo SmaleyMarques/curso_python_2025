{
 "cells": [
  {
   "cell_type": "markdown",
   "id": "792775e4",
   "metadata": {},
   "source": [
    "## Abrindo Arquivos no Python\n",
    "\n",
    "### Usando função **_open_** para abrir e manipular arquivos\n",
    "\n",
    "- Função ***open***: abre quanto cria arquivos\n",
    "- Sintaxe: Palavra reservada ***open*** + \"(\" + `<diretório/nome do arquivo>` (+ ou não) `<Modo de abertura ('r' defaut)>` + \")\"\n",
    "- Modos comuns: 'r' (leitura), 'w' (sobrescreve), 'a' (adiciona ao final), 'b' (binário).\n",
    "- Importante após abertura, leitura e/ou manipulação fechar arquivo usando função ***close***"
   ]
  },
  {
   "cell_type": "code",
   "execution_count": null,
   "id": "ffb27404",
   "metadata": {
    "lines_to_next_cell": 0
   },
   "outputs": [
    {
     "name": "stdout",
     "output_type": "stream",
     "text": [
      "Olá Mundo, Este é um teste para abertura de arquivos\n"
     ]
    }
   ],
   "source": [
    "# EXEMPLOS\n",
    "\n",
    "arquivo = \"ola_mundo.txt\"\n",
    "\n",
    "# ABRINDO ARQUIVO\n",
    "open_file = open(arquivo)\n",
    "\n",
    "# LENDO ARQUIVO USANDO MÉTODO READ() PARA LER TODO CONTEÚDO DO ARQUIVO\n",
    "conteudo = open_file.read()\n",
    "print(conteudo)\n",
    "\n",
    "# FECHANDO ARQUIVO\n",
    "open_file.close() # FECHAR ARQUIVO GARANTE A INTEGRIDADE DO ARQUIVO QUE ESTA ABERTO EM SEGUNDO PLANO"
   ]
  },
  {
   "cell_type": "markdown",
   "id": "bf33485a",
   "metadata": {},
   "source": [
    "### Usando função **_with_** \n",
    "\n",
    "- Usado para delimitar contexto de manipulação de arquivo\n",
    "- Fecha o arquivo automaticamente ao fim do bloco de contexto\n",
    "- Sintaxe: Palavra reservada ***with*** + Palavra reservada ***open*** + \"(\" + `<diretório/nome do arquivo>` (+ ou não) `<Modo de abertura ('r' defaut)>` + \")\" + Palavra reservada ***as*** + `<nome dado a váriavel de contexto>` + \":\""
   ]
  },
  {
   "cell_type": "code",
   "execution_count": null,
   "id": "f3938bbf",
   "metadata": {},
   "outputs": [
    {
     "name": "stdout",
     "output_type": "stream",
     "text": [
      "Olá Mundo, Este é um teste para abertura de arquivos\n"
     ]
    }
   ],
   "source": [
    "#USANDO WITH\n",
    "\n",
    "with open(arquivo) as open_file: # FECHAR ARQUIVO AUTOMATICAMENTE AO FIM DO BLOCO\n",
    "    conteudo = open_file.read()\n",
    "print(conteudo)"
   ]
  },
  {
   "cell_type": "code",
   "execution_count": 5,
   "id": "71bc773e",
   "metadata": {},
   "outputs": [
    {
     "name": "stdout",
     "output_type": "stream",
     "text": [
      "{'nome': ['Smaley', 'Jeniffer', 'Evelyn', 'Kevin'], 'idade': [' 32', ' 31', ' 12', ' 5'], 'gênero': [' M', ' F', ' F', ' M']}\n"
     ]
    }
   ],
   "source": [
    "#LENDO CSV\n",
    "file = \"arquivo.csv\"\n",
    "\n",
    "with open(file) as open_file:\n",
    "    content = open_file.readlines() #LENDO ARQUIVO USANDO MÉTODO READLINES() PARA LER AGRUPANDO LINHAS EM LISTAS\n",
    "\n",
    "#PREPARANDO DADOS PARA CSV\n",
    "tabela = dict()\n",
    "\n",
    "campos = content[0].strip('\\n').split(';')\n",
    "\n",
    "for i in campos:\n",
    "    tabela[i] = []\n",
    "\n",
    "for i in content[1:]:\n",
    "\n",
    "    valores = i.strip('\\n').split(';')\n",
    "\n",
    "    for i in range(len(valores)):\n",
    "        \n",
    "        tabela[campos[i]].append(valores[i])\n",
    "\n",
    "print(tabela)\n"
   ]
  },
  {
   "cell_type": "code",
   "execution_count": 6,
   "id": "5da3712e",
   "metadata": {},
   "outputs": [
    {
     "name": "stdout",
     "output_type": "stream",
     "text": [
      "Olá mundo,\n",
      "esse é mais um arquivo teste!\n"
     ]
    }
   ],
   "source": [
    "#ESCREVENDO NOVO ARQUIVO COM A FUNÇÃO WRITE\n",
    "\n",
    "arqv = \"novo_arquivo.txt\"\n",
    "\n",
    "txt = \"Olá mundo,\"\n",
    "txt2 = \"\\nesse é mais um arquivo teste!\"\n",
    "\n",
    "with open(arqv, mode= \"w\") as open_file:\n",
    "    open_file.write(txt)\n",
    "\n",
    "with open(arqv, mode= \"a\") as open_file:\n",
    "    open_file.write(txt2)\n",
    "\n",
    "with open(arqv) as open_file:\n",
    "    conteudo = open_file.read()\n",
    "print(conteudo)"
   ]
  },
  {
   "cell_type": "code",
   "execution_count": 32,
   "id": "43663e11",
   "metadata": {},
   "outputs": [
    {
     "name": "stdout",
     "output_type": "stream",
     "text": [
      "[['nome', 'idade', 'gênero'], ['Smaley', ' 32', ' M'], ['Jeniffer', ' 31', ' F'], ['Evelyn', ' 12', ' F'], ['Kevin', ' 5', ' M']]\n"
     ]
    }
   ],
   "source": [
    "# PACOTE ESPECIAL DO PYTHON PARA CSV\n",
    "\n",
    "import csv\n",
    "\n",
    "# LENDO CSV COM PACOTE CSV\n",
    "\n",
    "file = \"arquivo.csv\"\n",
    "\n",
    "nova_tabela = []\n",
    "\n",
    "with open(file, 'r') as arquivo:\n",
    "    dados = csv.reader(arquivo, delimiter=';')\n",
    "    for linha in dados:\n",
    "        nova_tabela.append(linha)\n",
    "    print(nova_tabela)\n",
    "\n",
    "nova_tabela.append(['Preciosa', '8', 'F'])\n",
    "\n",
    "# ESCREVENDO CSV COM PACOTE CSV\n",
    "\n",
    "with open(file, 'w', newline= '') as arquivo:\n",
    "    writer = csv.writer(arquivo)\n",
    "    writer.writerows(nova_tabela)"
   ]
  }
 ],
 "metadata": {
  "jupytext": {
   "cell_metadata_filter": "-all",
   "main_language": "python",
   "notebook_metadata_filter": "-all"
  },
  "kernelspec": {
   "display_name": "base",
   "language": "python",
   "name": "python3"
  },
  "language_info": {
   "codemirror_mode": {
    "name": "ipython",
    "version": 3
   },
   "file_extension": ".py",
   "mimetype": "text/x-python",
   "name": "python",
   "nbconvert_exporter": "python",
   "pygments_lexer": "ipython3",
   "version": "3.12.7"
  }
 },
 "nbformat": 4,
 "nbformat_minor": 5
}

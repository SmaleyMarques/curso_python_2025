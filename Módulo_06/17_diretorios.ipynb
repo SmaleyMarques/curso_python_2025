{
 "cells": [
  {
   "cell_type": "markdown",
   "id": "792775e4",
   "metadata": {},
   "source": [
    "## Trabalhando com Sistema de Arquivos no Python\n",
    "\n",
    "### Usando pacote **_os_** para abrir, interagir e manipular arquivos no sistema operacional\n"
   ]
  },
  {
   "cell_type": "code",
   "execution_count": 30,
   "id": "ffb27404",
   "metadata": {
    "lines_to_next_cell": 0
   },
   "outputs": [
    {
     "name": "stdout",
     "output_type": "stream",
     "text": [
      "C:\\Users\\Smaley\\Documents\\Smaley\\Cursos\\TeoMeWhy\\curso_python_2025\\Módulo_06\n",
      "C:\\Users\\Smaley\\Documents\\Smaley\\Cursos\\TeoMeWhy\\curso_python_2025\\Módulo_06\n",
      "C:\\Users\\Smaley\\Documents\\Smaley\n"
     ]
    }
   ],
   "source": [
    "# IMPORTANDO PACOTE\n",
    "\n",
    "import os\n",
    "\n",
    "# MUDANDO E CAPTURANDO DIRETÓRIO\n",
    "\n",
    "diretorio = r\"C:\\Users\\Smaley\\Documents\\Smaley\\Cursos\\TeoMeWhy\\curso_python_2025\\Módulo_06\" \n",
    "\n",
    "print(diretorio)\n",
    "\n",
    "os.chdir(diretorio) # Muda diretórios\n",
    "\n",
    "print(os.getcwd()) # Captura diretório atual completo\n",
    "\n",
    "os.chdir(\"C:/\")\n",
    "\n",
    "print(os.getcwd())"
   ]
  },
  {
   "cell_type": "code",
   "execution_count": 31,
   "id": "63be4874",
   "metadata": {},
   "outputs": [
    {
     "name": "stdout",
     "output_type": "stream",
     "text": [
      "C:\\Users\\Smaley\\Documents\\Smaley\n",
      "['Certificado', 'Cursos', 'Documentos Pessoais', 'Estudo de Música', 'Faculdade', 'Planilhas', 'Portfólio', 'Repositórios', 'Trabalho']\n"
     ]
    }
   ],
   "source": [
    "# LISTANDO DIRETÓRIOS\n",
    "\n",
    "os.chdir(\"C:/Users/Smaley/Documents/Smaley\")\n",
    "\n",
    "print(os.getcwd())\n",
    "\n",
    "print(os.listdir()) # Lista diretórios"
   ]
  },
  {
   "cell_type": "code",
   "execution_count": 37,
   "id": "d72bd4c5",
   "metadata": {},
   "outputs": [
    {
     "name": "stdout",
     "output_type": "stream",
     "text": [
      "['Certificado', 'Cursos', 'Documentos Pessoais', 'Estudo de Música', 'Faculdade', 'Pasta Teste', 'Planilhas', 'Portfólio', 'Repositórios', 'Trabalho']\n",
      "['Certificado', 'Cursos', 'Documentos Pessoais', 'Estudo de Música', 'Faculdade', 'Planilhas', 'Portfólio', 'Repositórios', 'Trabalho']\n"
     ]
    }
   ],
   "source": [
    "# MANIPULANDO DIRETÓRIOS\n",
    "\n",
    "os.mkdir('Pasta Teste') # CRIA DIRETÓRIO\n",
    "\n",
    "print(os.listdir())\n",
    "\n",
    "os.rmdir('Pasta Teste') # REMOVE DIRETÓRIO\n",
    "\n",
    "print(os.listdir())"
   ]
  },
  {
   "cell_type": "markdown",
   "id": "5ec10cf4",
   "metadata": {},
   "source": [
    "### Pacote **_shutil_** \n",
    "\n",
    "Acrescenta funcionalidades que o pacote **_os_** não tem como copiar e mover arquivos"
   ]
  },
  {
   "cell_type": "code",
   "execution_count": 45,
   "id": "0de7bda4",
   "metadata": {},
   "outputs": [
    {
     "name": "stdout",
     "output_type": "stream",
     "text": [
      "['16_open.ipynb', '17_diretorios.ipynb', 'arquivo.csv', 'arquivo_texto.txt', 'novo_arquivo.txt', 'ola_mundo.txt']\n",
      "['16_open.ipynb', '17_diretorios.ipynb', 'arquivo.csv', 'arquivo_texto.txt', 'novo_arquivo.txt', 'novo_arquivo_texto.txt', 'ola_mundo.txt']\n",
      "['16_open.ipynb', '17_diretorios.ipynb', 'arquivo.csv', 'arquivo_texto.txt', 'novo_arquivo.txt', 'ola_mundo.txt', 'Pasta teste']\n",
      "['16_open.ipynb', '17_diretorios.ipynb', 'arquivo.csv', 'novo_arquivo.txt', 'ola_mundo.txt']\n"
     ]
    }
   ],
   "source": [
    "# IMPORTANDO PACOTE\n",
    "\n",
    "import shutil as sh\n",
    "\n",
    "# CRIANDO NOVO ARQUIVO\n",
    "\n",
    "os.chdir(diretorio)\n",
    "\n",
    "with open('arquivo_texto.txt', 'w') as arquivo:\n",
    "    arquivo.write('Um Conteúdo qualquer')\n",
    "\n",
    "print(os.listdir())\n",
    "\n",
    "sh.copy('arquivo_texto.txt', 'novo_arquivo_texto.txt') # Copiando arquivos\n",
    "\n",
    "print(os.listdir())\n",
    "\n",
    "os.mkdir('Pasta teste')\n",
    "\n",
    "sh.move('novo_arquivo_texto.txt', os.path.join('Pasta teste', 'novo_arquivo_texto.txt')) # Move arquivos\n",
    "\n",
    "print(os.listdir())\n",
    "\n",
    "os.remove('arquivo_texto.txt')\n",
    "os.remove(os.path.join('Pasta teste', 'novo_arquivo_texto.txt'))\n",
    "os.rmdir('Pasta teste')\n",
    "\n",
    "print(os.listdir())"
   ]
  }
 ],
 "metadata": {
  "jupytext": {
   "cell_metadata_filter": "-all",
   "main_language": "python",
   "notebook_metadata_filter": "-all"
  },
  "kernelspec": {
   "display_name": "base",
   "language": "python",
   "name": "python3"
  },
  "language_info": {
   "codemirror_mode": {
    "name": "ipython",
    "version": 3
   },
   "file_extension": ".py",
   "mimetype": "text/x-python",
   "name": "python",
   "nbconvert_exporter": "python",
   "pygments_lexer": "ipython3",
   "version": "3.12.7"
  }
 },
 "nbformat": 4,
 "nbformat_minor": 5
}

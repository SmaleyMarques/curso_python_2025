{
 "cells": [
  {
   "cell_type": "markdown",
   "id": "02168df0",
   "metadata": {},
   "source": [
    "## Primeira Função Python\n",
    "### Usando função **_print_** para exibir no terminal a instrução entre **\"\"**"
   ]
  },
  {
   "cell_type": "code",
   "execution_count": 3,
   "id": "6a7ed95b",
   "metadata": {
    "lines_to_next_cell": 2
   },
   "outputs": [
    {
     "name": "stdout",
     "output_type": "stream",
     "text": [
      "Olá Mundo!\n"
     ]
    }
   ],
   "source": [
    "print(\"Olá Mundo!\")"
   ]
  },
  {
   "cell_type": "code",
   "execution_count": 1,
   "id": "6f81808a",
   "metadata": {
    "lines_to_next_cell": 2
   },
   "outputs": [
    {
     "name": "stdout",
     "output_type": "stream",
     "text": [
      "Olá Mundão!\n"
     ]
    }
   ],
   "source": [
    "print(\"Olá Mundão!\")"
   ]
  },
  {
   "cell_type": "code",
   "execution_count": 2,
   "id": "6188e2f9",
   "metadata": {},
   "outputs": [
    {
     "name": "stdout",
     "output_type": "stream",
     "text": [
      "Acho q estou aprendendo\n"
     ]
    }
   ],
   "source": [
    "print(\"Acho q estou aprendendo\")"
   ]
  }
 ],
 "metadata": {
  "jupytext": {
   "cell_metadata_filter": "-all",
   "main_language": "python",
   "notebook_metadata_filter": "-all"
  },
  "kernelspec": {
   "display_name": "base",
   "language": "python",
   "name": "python3"
  },
  "language_info": {
   "codemirror_mode": {
    "name": "ipython",
    "version": 3
   },
   "file_extension": ".py",
   "mimetype": "text/x-python",
   "name": "python",
   "nbconvert_exporter": "python",
   "pygments_lexer": "ipython3",
   "version": "3.12.7"
  }
 },
 "nbformat": 4,
 "nbformat_minor": 5
}

{
 "cells": [
  {
   "cell_type": "markdown",
   "id": "c487817c",
   "metadata": {},
   "source": [
    "## Fluxo de Repetição em Python\n",
    "\n",
    "### Sintaxe ***while*** :\n",
    "\n",
    "- Palavra reservada **_while_** + `<condição de execução>` + \":\" + `<código a executar caso a condição seja atendida>`\n",
    "- o código a executar deve ser escrito na mesma linha ou identado abaixo"
   ]
  },
  {
   "cell_type": "code",
   "execution_count": 6,
   "id": "89254501",
   "metadata": {},
   "outputs": [
    {
     "name": "stdout",
     "output_type": "stream",
     "text": [
      "2 X 1 = 2\n",
      "2 X 2 = 4\n",
      "2 X 3 = 6\n",
      "2 X 4 = 8\n",
      "2 X 5 = 10\n",
      "2 X 6 = 12\n",
      "2 X 7 = 14\n",
      "2 X 8 = 16\n",
      "2 X 9 = 18\n",
      "2 X 10 = 20\n",
      "Feito!\n"
     ]
    }
   ],
   "source": [
    "# While\n",
    "\n",
    "numero = 2\n",
    "i = 1 # Contador\n",
    "\n",
    "while i <=10:\n",
    "    print(numero, \"X\", i, \"=\", numero * i)\n",
    "    i += 1 # Incremento (i = i + 1)\n",
    "print(\"Feito!\")"
   ]
  },
  {
   "cell_type": "markdown",
   "id": "129da5d7",
   "metadata": {},
   "source": [
    "\n",
    "### Sintaxe ***for*** :\n",
    "\n",
    "- Palavra reservada **_for_** + `<declaração da variável iteradora>` + palavra reservada **_in_** + `<estrutura a iterar>` + \":\" + `<código a executar caso a condição seja atendida>`\n",
    "- (+ ou não) **_else_** + \":\" + `<código a executar caso não tenha acontecido interrupções no fluxo>`\n",
    "- a vairável iteradora não precisa ter sido previamente declarada, pois é criada junto com a declaração do ***for***\n",
    "- a estrutura a iterar deve ser qualquer estrutura composta por mais de um elemento. Ex: listas, tuplas, conjuntos, dicionários, intervalo (_range_), _strings_, etc\n",
    "- o código a executar deve ser escrito na mesma linha ou identado abaixo\n"
   ]
  },
  {
   "cell_type": "code",
   "execution_count": 7,
   "id": "c51e41b0",
   "metadata": {
    "lines_to_next_cell": 0
   },
   "outputs": [
    {
     "name": "stdout",
     "output_type": "stream",
     "text": [
      "2 X 1 = 2\n",
      "2 X 2 = 4\n",
      "2 X 3 = 6\n",
      "2 X 4 = 8\n",
      "2 X 5 = 10\n",
      "2 X 6 = 12\n",
      "2 X 7 = 14\n",
      "2 X 8 = 16\n",
      "2 X 9 = 18\n",
      "2 X 10 = 20\n",
      "fim da repetição!\n"
     ]
    }
   ],
   "source": [
    "# For e in\n",
    "\n",
    "numero_3 = 2\n",
    "for i in range(1,11): # range gera lista de 1 a 10\n",
    "    print(numero_3, \"X\", i, \"=\", numero_3 * i)\n",
    "else: print(\"fim da repetição!\")\n"
   ]
  },
  {
   "cell_type": "code",
   "execution_count": 8,
   "id": "0580a138",
   "metadata": {},
   "outputs": [
    {
     "name": "stdout",
     "output_type": "stream",
     "text": [
      "p\n",
      "a\n",
      "l\n",
      "a\n",
      "v\n",
      "r\n",
      "a\n"
     ]
    }
   ],
   "source": [
    "# For letra in palavra\n",
    "\n",
    "palavra = \"palavra\"\n",
    "for letra in palavra:\n",
    "    print(letra)"
   ]
  },
  {
   "cell_type": "markdown",
   "id": "edb6a274",
   "metadata": {},
   "source": [
    "### Interrupções :\n",
    "\n",
    "- ***break*** - para o fluxo de repetição imediatamente\n",
    "- ***continue*** - pula a iteração atual segundo para proxima"
   ]
  },
  {
   "cell_type": "code",
   "execution_count": 9,
   "id": "cfb8b7e9",
   "metadata": {},
   "outputs": [
    {
     "name": "stdout",
     "output_type": "stream",
     "text": [
      "2 X 1 = 2\n",
      "2 X 2 = 4\n",
      "2 X 3 = 6\n",
      "2 X 4 = 8\n",
      "2 X 5 = 10\n",
      "2 X 6 = 12\n",
      "2 X 7 = 14\n",
      "2 X 8 = 16\n",
      "2 X 9 = 18\n",
      "2 X 10 = 20\n",
      "Feito!\n"
     ]
    }
   ],
   "source": [
    "#...While com Break\n",
    "\n",
    "numero_2 = 2\n",
    "i = 1 # Contador\n",
    "\n",
    "while True:\n",
    "    if i > 10:\n",
    "        break\n",
    "    print(numero_2, \"X\", i, \"=\", numero_2 * i)\n",
    "    i += 1 # Incremento (i = i + 1)\n",
    "print(\"Feito!\")"
   ]
  },
  {
   "cell_type": "code",
   "execution_count": 10,
   "id": "7c8ac9bb",
   "metadata": {},
   "outputs": [
    {
     "name": "stdout",
     "output_type": "stream",
     "text": [
      "1\n",
      "3\n",
      "5\n",
      "7\n",
      "9\n"
     ]
    }
   ],
   "source": [
    "# For com Continue\n",
    "\n",
    "for n in range(1,11):\n",
    "    #Exibindo apenas números primos de 1 - 10:\n",
    "    if n % 2 ==0:\n",
    "        continue\n",
    "    print(n)\n"
   ]
  }
 ],
 "metadata": {
  "jupytext": {
   "cell_metadata_filter": "-all",
   "main_language": "python",
   "notebook_metadata_filter": "-all"
  },
  "kernelspec": {
   "display_name": "base",
   "language": "python",
   "name": "python3"
  },
  "language_info": {
   "codemirror_mode": {
    "name": "ipython",
    "version": 3
   },
   "file_extension": ".py",
   "mimetype": "text/x-python",
   "name": "python",
   "nbconvert_exporter": "python",
   "pygments_lexer": "ipython3",
   "version": "3.12.7"
  }
 },
 "nbformat": 4,
 "nbformat_minor": 5
}

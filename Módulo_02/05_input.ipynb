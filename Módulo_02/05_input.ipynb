{
 "cells": [
  {
   "cell_type": "markdown",
   "id": "ece50bcd",
   "metadata": {},
   "source": [
    "## Capturando Entrada do Usuário em Python\n",
    "### Usando função **_input_** para solicitar e capturar entrada do usuário no terminal, a partir de uma instrução entre \"\""
   ]
  },
  {
   "cell_type": "code",
   "execution_count": null,
   "id": "082e8fb5",
   "metadata": {},
   "outputs": [
    {
     "name": "stdout",
     "output_type": "stream",
     "text": [
      "1\n"
     ]
    }
   ],
   "source": [
    "entrada = input(\"digite qualquer coisa:\")\n",
    "print(entrada)"
   ]
  }
 ],
 "metadata": {
  "jupytext": {
   "cell_metadata_filter": "-all",
   "main_language": "python",
   "notebook_metadata_filter": "-all"
  },
  "kernelspec": {
   "display_name": "base",
   "language": "python",
   "name": "python3"
  },
  "language_info": {
   "codemirror_mode": {
    "name": "ipython",
    "version": 3
   },
   "file_extension": ".py",
   "mimetype": "text/x-python",
   "name": "python",
   "nbconvert_exporter": "python",
   "pygments_lexer": "ipython3",
   "version": "3.12.7"
  }
 },
 "nbformat": 4,
 "nbformat_minor": 5
}

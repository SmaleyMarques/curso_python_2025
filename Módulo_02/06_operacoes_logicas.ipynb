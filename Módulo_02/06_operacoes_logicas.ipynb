{
 "cells": [
  {
   "cell_type": "markdown",
   "id": "e788c272",
   "metadata": {},
   "source": [
    "## Operações de Comparação em Python\n",
    "### Principais operações de comparação e suas respectivas sintaxes"
   ]
  },
  {
   "cell_type": "code",
   "execution_count": 2,
   "id": "c7427794",
   "metadata": {},
   "outputs": [
    {
     "name": "stdout",
     "output_type": "stream",
     "text": [
      "1 > 2 =  False\n",
      "10 < 2 =  False\n",
      "1 <= 20 =  True\n",
      "10 >= 2 =  True\n",
      "10 = 20 =  False\n",
      "10 <> 20 =  True\n",
      "10 esta em {10, 20, 30} =  True\n"
     ]
    }
   ],
   "source": [
    "#COMPARAÇÕES LÓGICAS \n",
    "\n",
    "print(\"1 > 2 = \", 1 > 2)\n",
    "print(\"10 < 2 = \", 10 < 2)\n",
    "print(\"1 <= 20 = \", 1 <= 20)\n",
    "print(\"10 >= 2 = \", 10 >= 2)\n",
    "print(\"10 = 20 = \", 10 == 20)\n",
    "print(\"10 <> 20 = \", 10 != 20)\n",
    "print(\"10 esta em {10, 20, 30} = \", 10 in {10, 20, 30})"
   ]
  },
  {
   "cell_type": "code",
   "execution_count": 4,
   "id": "766b13d4",
   "metadata": {},
   "outputs": [
    {
     "name": "stdout",
     "output_type": "stream",
     "text": [
      "1 < 2 E 1 < 3 =  True\n",
      "1 < 2 E 1 > 3 =  False\n",
      "1 > 2 E 1 > 3 =  False\n",
      "1 < 2 OU 1 < 3 =  True\n",
      "1 < 2 OU 1 > 3 =  True\n",
      "1 > 2 OU 1 > 3 =  False\n"
     ]
    }
   ],
   "source": [
    "#CONECTORES LÓGICOS (and/or)\n",
    "\n",
    "print(\"1 < 2 E 1 < 3 = \", 1 < 2 and 1 < 3)\n",
    "print(\"1 < 2 E 1 > 3 = \", 1 < 2 and 1 > 3)\n",
    "print(\"1 > 2 E 1 > 3 = \", 1 > 2 and 1 > 3)\n",
    "print(\"1 < 2 OU 1 < 3 = \", 1 < 2 or 1 < 3)\n",
    "print(\"1 < 2 OU 1 > 3 = \", 1 < 2 or 1 > 3)\n",
    "print(\"1 > 2 OU 1 > 3 = \", 1 > 2 or 1 > 3)"
   ]
  },
  {
   "cell_type": "code",
   "execution_count": null,
   "id": "b3c6c019",
   "metadata": {},
   "outputs": [
    {
     "name": "stdout",
     "output_type": "stream",
     "text": [
      "1 Não é < 2 =  True\n",
      "10 Não é <> 20 =  True\n",
      "1 Não é < 2 E 1 Não é < 3 =  False\n",
      "1 Não é < 2 OU 1 Não é < 3 =  True\n"
     ]
    }
   ],
   "source": [
    "#NEGAÇÃO (not/~)\n",
    "\n",
    "print(\"1 Não é < 2 = \", not 1 > 2)\n",
    "print(\"10 Não é <> 20 = \", ~10 != 20)\n",
    "print(\"1 Não é < 2 E 1 Não é < 3 = \", not 1 < 2 and 1 < 3)\n",
    "print(\"1 Não é < 2 OU 1 Não é < 3 = \", ~1 < 2 or 1 < 3)"
   ]
  }
 ],
 "metadata": {
  "jupytext": {
   "cell_metadata_filter": "-all",
   "main_language": "python",
   "notebook_metadata_filter": "-all"
  },
  "kernelspec": {
   "display_name": "base",
   "language": "python",
   "name": "python3"
  },
  "language_info": {
   "codemirror_mode": {
    "name": "ipython",
    "version": 3
   },
   "file_extension": ".py",
   "mimetype": "text/x-python",
   "name": "python",
   "nbconvert_exporter": "python",
   "pygments_lexer": "ipython3",
   "version": "3.12.7"
  }
 },
 "nbformat": 4,
 "nbformat_minor": 5
}

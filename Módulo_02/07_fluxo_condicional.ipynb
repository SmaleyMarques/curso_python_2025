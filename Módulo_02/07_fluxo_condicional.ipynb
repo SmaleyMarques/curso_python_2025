{
 "cells": [
  {
   "cell_type": "markdown",
   "id": "7aebe44d",
   "metadata": {},
   "source": [
    "## Fluxo Condicional em Python\n",
    "### Sintaxe:\n",
    "\n",
    "- Palavra reservada **_if_** + `<condição de execução>` + \":\" + `<código a executar caso a condição seja atendida>`\n",
    "- (+ ou não) **_else_** + \":\" + `<código a executar caso a condição **Não** seja atendida>`\n",
    "- (+ ou não) **_elif_** + `<condição de execução>` + \":\" + `<código a executar caso a **Nova condição** seja atendida>`\n",
    "- o código a executar deve ser escrito na mesma linha ou identado abaixo"
   ]
  },
  {
   "cell_type": "code",
   "execution_count": 1,
   "id": "816ab8b9",
   "metadata": {
    "lines_to_next_cell": 0
   },
   "outputs": [
    {
     "name": "stdout",
     "output_type": "stream",
     "text": [
      "menor de idade\n"
     ]
    }
   ],
   "source": [
    "#...SE\n",
    "idade = 15\n",
    "\n",
    "if idade < 18: print(\"menor de idade\")\n",
    "\n",
    "if idade >= 18:\n",
    "    print(\"maior de idade\")"
   ]
  },
  {
   "cell_type": "code",
   "execution_count": null,
   "id": "21d8ce9f",
   "metadata": {
    "lines_to_next_cell": 0
   },
   "outputs": [],
   "source": [
    "#...SE...SE NÃO\n",
    "\n",
    "idade_2 = 18\n",
    "\n",
    "if idade_2 < 18:\n",
    "    print(\"menor de idade\")\n",
    "else: # SE NÃO\n",
    "    print(\"maior de idade\")"
   ]
  },
  {
   "cell_type": "code",
   "execution_count": null,
   "id": "59a622a3",
   "metadata": {},
   "outputs": [],
   "source": [
    "#...SE...SE NÃO SE\n",
    "\n",
    "idade_3 = 70\n",
    "\n",
    "if idade_3 < 18:\n",
    "    print(\"menor de idade\")\n",
    "elif idade_3 >= 65: # SE NÃO SE\n",
    "    print(\"idade senil\")\n",
    "else: # SE NÃO\n",
    "    print(\"maior de idade\")"
   ]
  },
  {
   "cell_type": "code",
   "execution_count": 6,
   "id": "f6ea5c31",
   "metadata": {},
   "outputs": [
    {
     "name": "stdout",
     "output_type": "stream",
     "text": [
      "maior de idade e não senil\n"
     ]
    }
   ],
   "source": [
    "#...COMPOSTO\n",
    "\n",
    "idade_4 = 33\n",
    "\n",
    "if 18 <= idade_4 < 65:\n",
    "    print(\"maior de idade e não senil\")\n",
    "else:\n",
    "    print(\"menor de idade ou senil\")"
   ]
  }
 ],
 "metadata": {
  "jupytext": {
   "cell_metadata_filter": "-all",
   "main_language": "python",
   "notebook_metadata_filter": "-all"
  },
  "kernelspec": {
   "display_name": "base",
   "language": "python",
   "name": "python3"
  },
  "language_info": {
   "codemirror_mode": {
    "name": "ipython",
    "version": 3
   },
   "file_extension": ".py",
   "mimetype": "text/x-python",
   "name": "python",
   "nbconvert_exporter": "python",
   "pygments_lexer": "ipython3",
   "version": "3.12.7"
  }
 },
 "nbformat": 4,
 "nbformat_minor": 5
}

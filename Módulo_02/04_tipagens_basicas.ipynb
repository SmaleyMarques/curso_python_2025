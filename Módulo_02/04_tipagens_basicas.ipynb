{
 "cells": [
  {
   "cell_type": "markdown",
   "id": "c5cb4ac3",
   "metadata": {},
   "source": [
    "## Tipos de Dados em Python\n",
    "### A tipagem em Python é automática, conforme intepretação da linguagem\n",
    "\n",
    "- tipagens básicas: **_int_** (Inteiro), **_float_** (Flutuante/Decimal), **_string_** (conjunto de caracteres), **_bool_** (Booleando/Verdadeiro ou Falso/0 ou 1)\n",
    "- Usando a função **_type_** é possível capturar o tipo interpretado pela linguagem Python\n",
    "- A tipagem é importante em Python, pois a depender do tipo de dado pode haver comportamentos distintos entre tipos"
   ]
  },
  {
   "cell_type": "code",
   "execution_count": null,
   "id": "f7955dd5",
   "metadata": {},
   "outputs": [
    {
     "name": "stdout",
     "output_type": "stream",
     "text": [
      "palavras\n",
      "caracteres\n",
      "<class 'str'>\n"
     ]
    }
   ],
   "source": [
    "# Tipo String\n",
    "\n",
    "print(\"palavras\")\n",
    "print(\"caracteres\")\n",
    "\n",
    "string = \"string\"\n",
    "\n",
    "print(type(string))"
   ]
  },
  {
   "cell_type": "code",
   "execution_count": null,
   "id": "beb4f841",
   "metadata": {},
   "outputs": [
    {
     "name": "stdout",
     "output_type": "stream",
     "text": [
      "1\n",
      "5\n",
      "<class 'int'>\n"
     ]
    }
   ],
   "source": [
    "# Tipo Inteiro\n",
    "\n",
    "print(1)\n",
    "print(5)\n",
    "\n",
    "inteiro = 4\n",
    "\n",
    "print(type(inteiro))"
   ]
  },
  {
   "cell_type": "code",
   "execution_count": null,
   "id": "e270618a",
   "metadata": {},
   "outputs": [
    {
     "name": "stdout",
     "output_type": "stream",
     "text": [
      "1.0\n",
      "0.5\n",
      "1.23456789\n",
      "<class 'float'>\n"
     ]
    }
   ],
   "source": [
    "# Tipo Float\n",
    "\n",
    "print(1.)\n",
    "print(.5)\n",
    "print(1.23456789)\n",
    "\n",
    "float = 4.32\n",
    "\n",
    "print(type(float))"
   ]
  },
  {
   "cell_type": "code",
   "execution_count": null,
   "id": "253f6f6d",
   "metadata": {},
   "outputs": [
    {
     "name": "stdout",
     "output_type": "stream",
     "text": [
      "True\n",
      "False\n",
      "<class 'bool'>\n"
     ]
    }
   ],
   "source": [
    "# Tipo Booleano\n",
    "\n",
    "print(True)\n",
    "print(False)\n",
    "\n",
    "booleano = True\n",
    "\n",
    "print(type(booleano))"
   ]
  }
 ],
 "metadata": {
  "jupytext": {
   "cell_metadata_filter": "-all",
   "main_language": "python",
   "notebook_metadata_filter": "-all"
  },
  "kernelspec": {
   "display_name": "base",
   "language": "python",
   "name": "python3"
  },
  "language_info": {
   "codemirror_mode": {
    "name": "ipython",
    "version": 3
   },
   "file_extension": ".py",
   "mimetype": "text/x-python",
   "name": "python",
   "nbconvert_exporter": "python",
   "pygments_lexer": "ipython3",
   "version": "3.12.7"
  }
 },
 "nbformat": 4,
 "nbformat_minor": 5
}

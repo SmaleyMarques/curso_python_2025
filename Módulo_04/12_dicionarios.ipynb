{
 "cells": [
  {
   "cell_type": "markdown",
   "id": "377c649f",
   "metadata": {},
   "source": [
    "## Dicionários no Python\n",
    "\n",
    "### Características:\n",
    "\n",
    "- Conjunto de Pares Chave e Valor ***Principal distinção de dicionários e as demais estruturas**\n",
    "- Heretogênio - Comporta quaisquer tipos de dados como elemento, inclusive dicionários\n",
    "- Mutavél - Comporta mudanças naturalmente\n",
    "- Aceita apenas chaves únicas\n",
    "- Aceita valores repetidos"
   ]
  },
  {
   "cell_type": "code",
   "execution_count": null,
   "id": "1b313215",
   "metadata": {},
   "outputs": [],
   "source": [
    "#EXEMPLO\n",
    "\n",
    "dicionario = dict() #DICIONARIO VAZIO\n",
    "\n",
    "caract = {\n",
    "    'primeiro nome': 'Smaley',\n",
    "    'segundo nome': 'Marques',\n",
    "    'casado': True,\n",
    "    'tempo casado': '13 anos',\n",
    "    'filhos': 2,\n",
    "    'nomes': ['Evelyn', 'Kevin'],\n",
    "    'altura': 1.70,\n",
    "    'peso': 130\n",
    "    }\n",
    "\n",
    "print(caract)"
   ]
  },
  {
   "cell_type": "code",
   "execution_count": null,
   "id": "d96c5035",
   "metadata": {
    "lines_to_next_cell": 2
   },
   "outputs": [],
   "source": [
    "#ACESSANDO VALORES\n",
    "print(caract[\"casado\"])\n",
    "print(caract[\"altura\"])\n",
    "print(caract[\"peso\"])\n",
    "print(caract[\"filhos\"])\n",
    "print(caract[\"nomes\"])\n",
    "print(\"Primeiro filho:\",caract[\"nomes\"][0])\n",
    "print(\"Segundo filho:\",caract[\"nomes\"][1])"
   ]
  },
  {
   "cell_type": "code",
   "execution_count": null,
   "id": "52fda810",
   "metadata": {
    "lines_to_next_cell": 0
   },
   "outputs": [],
   "source": [
    "#INSERINDO VALORES\n",
    "cargos = [\n",
    "            {\"nome\": \"astt vendas\", \"empresa\": \"GP\"},\n",
    "            {\"nome\": \"astt vendas\", \"empresa\": \"Unilider\"},\n",
    "            {\"nome\": \"anlt vendas\", \"empresa\": \"Unilider\"},\n",
    "            {\"nome\": \"anlt dados\", \"empresa\": \"Unilider\"},\n",
    "        ]\n",
    "\n",
    "caract[\"cargos\"] = cargos\n",
    "print(caract)\n",
    "print(\"Cargo atual:\", caract[\"cargos\"][-1][\"nome\"])"
   ]
  },
  {
   "cell_type": "code",
   "execution_count": null,
   "id": "31d15e3a",
   "metadata": {},
   "outputs": [],
   "source": [
    "#MANIPULANDO DICIONÁRIOS\n",
    "\n",
    "print(caract.keys()) #ACESSANDO CHAVES\n",
    "\n",
    "print(caract.values()) #ACESSANDO VALORES\n",
    "\n",
    "print(caract.items()) #ACESSANDO ITENS (PARES CHAVE/VALOR)\n",
    "\n",
    "caract.popitem() #EXCLUINDO ITENS (CHAVE/VALOR)\n",
    "print(caract)"
   ]
  },
  {
   "cell_type": "code",
   "execution_count": null,
   "id": "eb5126e1",
   "metadata": {},
   "outputs": [],
   "source": [
    "#PERCORRENDO DICIONÁRIO (ITERANDO)\n",
    "\n",
    "for i in caract:\n",
    "    print(i) #PRINTA CHAVES\n",
    "print(\"\\n\")\n",
    "\n",
    "for i in caract:\n",
    "    print(caract[i]) #PRINTA VALORES\n",
    "print(\"\\n\")\n",
    "\n",
    "for i in caract:\n",
    "    print(i, \"->\", caract[i]) #PRINTA CHAVES/VALORES\n",
    "print(\"\\n\")\n",
    "\n",
    "for i in caract.items():\n",
    "    print(i) #PRINTA ITENS\n",
    "print(\"\\n\")\n",
    "\n",
    "for i,j in caract.items():\n",
    "    print(i, \"->\", j) #PRINTA ITENS (UNPACK)\n",
    "print(\"\\n\")"
   ]
  },
  {
   "cell_type": "markdown",
   "id": "f36331c8",
   "metadata": {},
   "source": [
    "### DICT COMPREHENSION:\n",
    "\n",
    "- Transformação\n",
    "- Iteração\n",
    "- Condição\n",
    "- Uma única linha"
   ]
  },
  {
   "cell_type": "code",
   "execution_count": null,
   "id": "80fe67b9",
   "metadata": {},
   "outputs": [
    {
     "name": "stdout",
     "output_type": "stream",
     "text": [
      "{'Qadrado de 2': 4, 'Qadrado de 4': 16, 'Qadrado de 6': 36, 'Qadrado de 8': 64, 'Qadrado de 10': 100, 'Qadrado de 12': 144, 'Qadrado de 14': 196, 'Qadrado de 16': 256, 'Qadrado de 18': 324, 'Qadrado de 20': 400} \n",
      "\n",
      "{'Smaley': 32, 'Jeniffer': 31, 'Evelyn': 12, 'Kevin': 5}\n"
     ]
    }
   ],
   "source": [
    "# QUADRADOS DOS NÚMEROS PARES DE 0 A 20\n",
    "\n",
    "quad_pares = {'Quadrado de '+ str(x): x**2 for x in range(1,21) if x % 2 == 0}\n",
    "\n",
    "print(quad_pares, \"\\n\")\n",
    "\n",
    "# PRIMEIROS E ÚLTIMOS NOMES DE UMA LISTA DE NOMES COMPOSTOS\n",
    "\n",
    "nomes = ['Smaley', 'Jeniffer', 'Evelyn', 'Kevin']\n",
    "idades = [32,31,12,5]\n",
    "\n",
    "nome_idade = {nome: idade for nome, idade in zip(nomes, idades)} # A função 'zip' concatena as duas listas para serem iteradas juntas\n",
    "\n",
    "print(nome_idade)\n",
    "\n"
   ]
  }
 ],
 "metadata": {
  "jupytext": {
   "cell_metadata_filter": "-all",
   "main_language": "python",
   "notebook_metadata_filter": "-all"
  },
  "kernelspec": {
   "display_name": "base",
   "language": "python",
   "name": "python3"
  },
  "language_info": {
   "codemirror_mode": {
    "name": "ipython",
    "version": 3
   },
   "file_extension": ".py",
   "mimetype": "text/x-python",
   "name": "python",
   "nbconvert_exporter": "python",
   "pygments_lexer": "ipython3",
   "version": "3.12.7"
  }
 },
 "nbformat": 4,
 "nbformat_minor": 5
}

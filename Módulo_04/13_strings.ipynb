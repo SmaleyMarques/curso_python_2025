{
 "cells": [
  {
   "cell_type": "markdown",
   "id": "6537b59a",
   "metadata": {},
   "source": [
    "## Strings no Python\n",
    "\n",
    "### Características:\n",
    "\n",
    "- Sequencia de caracteres\n",
    "- Imutavél - Não comporta mudanças\n",
    "- Delimitada por aspas simples '' ou aspas duplas \"\""
   ]
  },
  {
   "cell_type": "code",
   "execution_count": 3,
   "id": "3bf12dd6",
   "metadata": {},
   "outputs": [
    {
     "name": "stdout",
     "output_type": "stream",
     "text": [
      "string\n",
      "<class 'str'>\n",
      "palavra\n",
      "<class 'str'>\n"
     ]
    }
   ],
   "source": [
    "# EXEMPLO\n",
    "\n",
    "caracteres = 'string'\n",
    "palavra = \"palavra\"\n",
    "\n",
    "print(caracteres, type(caracteres), palavra, type(palavra), sep=\"\\n\")"
   ]
  },
  {
   "cell_type": "code",
   "execution_count": null,
   "id": "98e05179",
   "metadata": {
    "lines_to_next_cell": 0
   },
   "outputs": [
    {
     "name": "stdout",
     "output_type": "stream",
     "text": [
      "Primeiro letra:  s\n",
      "Último letra:  g\n",
      "Letra do meio:  n\n",
      "Primeiros 4 Letras: pala\n",
      "3 Letras do meio: avr\n",
      "Letras do 5 em diante: vra\n",
      "Letras de 2 em 2: plva\n",
      "Letras invertidos: arvalap\n"
     ]
    }
   ],
   "source": [
    "#ACESSANDO ELEMENTOS\n",
    "\n",
    "print(\"Primeiro letra: \", caracteres[0])\n",
    "print(\"Último letra: \", caracteres[-1])\n",
    "print(\"Letra do meio: \", caracteres[4])\n",
    "\n",
    "#FATIAMENTO (START : STOP: STEP)\n",
    "\n",
    "print(\"Primeiros 4 Letras:\", palavra[:4])\n",
    "print(\"3 Letras do meio:\", palavra[3:6])\n",
    "print(\"Letras do ordem 5 em diante:\", palavra[4:])\n",
    "print(\"Letras de ordem 2 em 2:\", palavra[::2])\n",
    "print(\"Letras invertidos:\", palavra[::-1])"
   ]
  },
  {
   "cell_type": "code",
   "execution_count": 16,
   "id": "f43daa23",
   "metadata": {},
   "outputs": [
    {
     "name": "stdout",
     "output_type": "stream",
     "text": [
      "Esta é 'palavra':  telefonista\n",
      "Esta é 'nova_palavra':  abacate\n",
      "Concatenando 'palavra' com 'nova_palavra' usando '+':  telefonistaabacate\n",
      "Repetindo 'nova_palavra' usando '*2' :  abacateabacate\n",
      "Transformando 'nova_palavra' em maiúsculo com método 'upper()' :  ABACATEABACATE\n",
      "Transformando 'nova_palavra' em minúsculo com método 'lower()' :  abacateabacate\n",
      "Separando 'nova_palavra' com método 'split('e')' :  ['abacat', 'abacat', '']\n",
      "Substituindo caracteres em 'nova_palavra' com método 'replace('t', 'te')' :  abacate\n",
      "Substituindo caracteres em 'palavra' com método 'sub(r'ab.*', '', palavra)' da biblioteca 're' :  telefonista\n"
     ]
    }
   ],
   "source": [
    "#MANIPULANDO STRINGS\n",
    "\n",
    "palavra = 'telefonista' \n",
    "print(\"Esta é 'palavra': \", palavra)\n",
    "\n",
    "nova_palavra = \"abacate\"\n",
    "print(\"Esta é 'nova_palavra': \", nova_palavra)\n",
    "\n",
    "palavra = palavra + nova_palavra #CONCATENANDO STRINGS\n",
    "print(\"Concatenando 'palavra' com 'nova_palavra' usando '+': \",palavra)\n",
    "\n",
    "nova_palavra = nova_palavra * 2 #REPETINDO STRINGS\n",
    "print(\"Repetindo 'nova_palavra' usando '*2' : \", nova_palavra)\n",
    "\n",
    "nova_palavra = nova_palavra.upper() #TRANSFORMANDO PRA MAIÚSCULO\n",
    "print(\"Transformando 'nova_palavra' em maiúsculo com método 'upper()' : \", nova_palavra)\n",
    "\n",
    "nova_palavra = nova_palavra.lower() #TRANSFORMANDO PRA MINÚSCULO\n",
    "print(\"Transformando 'nova_palavra' em minúsculo com método 'lower()' : \", nova_palavra)\n",
    "\n",
    "nova_palavra = nova_palavra.split('e') #SEPARANDO STRING\n",
    "print(\"Separando 'nova_palavra' com método 'split('e')' : \", nova_palavra)\n",
    "\n",
    "nova_palavra = nova_palavra[0].replace('t', 'te') #SUBSTITUINDO CARACTERES\n",
    "print(\"Substituindo caracteres em 'nova_palavra' com método 'replace('t', 'te')' : \", nova_palavra)\n",
    "\n",
    "import re\n",
    "\n",
    "palavra = re.sub(r'ab.*', '', palavra) #SUBSTITUINDO CARACTERES AVANÇADA\n",
    "print(\"Substituindo caracteres em 'palavra' com método 'sub(r'ab.*', '', palavra)' da biblioteca 're' : \", palavra)"
   ]
  },
  {
   "cell_type": "code",
   "execution_count": null,
   "id": "91033c4f",
   "metadata": {},
   "outputs": [
    {
     "name": "stdout",
     "output_type": "stream",
     "text": [
      "A String \"telefonista\" começa com \"te\"? True\n",
      "A String \"telefonista\" termina com \"te\"? False\n",
      "A String \"nista\" esta contida em \"telefonista? True\n",
      "Encontre \"ni\" na String \"telefonista\" e retorne o índice inicial: 6\n",
      "Conte quantes vezes aparece \"e\" na String \"telefonista\": 2\n",
      "Qual é o tamanho em caracteres da String \"telefonista\"? 11\n"
     ]
    }
   ],
   "source": [
    "\n",
    "# OPERAÇÕES DE VERIFICAÇÕES\n",
    "\n",
    "print('A String \"telefonista\" começa com \"te\"?', palavra.startswith('te'))\n",
    "print('A String \"telefonista\" termina com \"te\"?',palavra.endswith('te'))\n",
    "print('A String \"nista\" esta contida em \"telefonista?', \"nista\" in palavra)\n",
    "print('Encontre \"ni\" na String \"telefonista\" e retorne o índice inicial:', palavra.find('ni'))\n",
    "print('Conte quantes vezes aparece \"e\" na String \"telefonista\":', palavra.count('e'))\n",
    "print('Qual é o tamanho em caracteres da String \"telefonista\"?', len(palavra))\n"
   ]
  },
  {
   "cell_type": "code",
   "execution_count": 53,
   "id": "87cba8c3",
   "metadata": {},
   "outputs": [
    {
     "name": "stdout",
     "output_type": "stream",
     "text": [
      "nº caracteres contando espaços: 9 caracteres\n",
      "Removendo espaços excedentes na String 'space_string' com método 'strip(): \n",
      "nº caracteres sem espaços: 7\n",
      "Juntando caracteres de uma lista em uma String com método join() L+E+T+R+A+S = LETRAS\n"
     ]
    }
   ],
   "source": [
    "# OUTRAS OPERAÇÕES\n",
    "\n",
    "space_string = \" Palavra \"\n",
    "print('nº caracteres contando espaços:', len(space_string), 'caracteres')\n",
    "\n",
    "space_string = space_string.strip()\n",
    "print(\"Removendo espaços excedentes na String 'space_string' com método 'strip():\", \"\\n\"+'nº caracteres sem espaços:', len(space_string))\n",
    "\n",
    "letras = [\"L\", \"E\", \"T\", \"R\", \"A\", \"S\"]\n",
    "print(\"Juntando caracteres de uma lista em uma String com método join()\", \"+\".join(letras),\"=\", \"\".join(letras))"
   ]
  },
  {
   "cell_type": "code",
   "execution_count": 54,
   "id": "52a54037",
   "metadata": {},
   "outputs": [
    {
     "name": "stdout",
     "output_type": "stream",
     "text": [
      "t\n",
      "e\n",
      "l\n",
      "e\n",
      "f\n",
      "o\n",
      "n\n",
      "i\n",
      "s\n",
      "t\n",
      "a\n"
     ]
    }
   ],
   "source": [
    "#PERCORRENDO LISTA (ITERANDO)\n",
    "\n",
    "for i in palavra:\n",
    "    print(i)"
   ]
  },
  {
   "cell_type": "markdown",
   "id": "36f4e80f",
   "metadata": {},
   "source": [
    "### Place Holder / Espaço reservado em String\n",
    "\n",
    "- Método ***format***: \"Olá { }\".str.format(name)\n",
    "- ***f-strings*** (Python 3.6+): f\"Olá {name}\""
   ]
  },
  {
   "cell_type": "code",
   "execution_count": 55,
   "id": "ab057687",
   "metadata": {},
   "outputs": [
    {
     "name": "stdout",
     "output_type": "stream",
     "text": [
      "Olá Sr.Smaley\n",
      "Saudoso Henrique Pinto\n",
      "Olá Sr.Smaley Marques\n"
     ]
    }
   ],
   "source": [
    "# MÉTODO FORMAT\n",
    "\n",
    "nome = \"Smaley\"\n",
    "frase = \"Olá Sr.{}\".format(nome)\n",
    "\n",
    "print(frase)\n",
    "\n",
    "nova_frase = \"Saudoso {ph}\"\n",
    "\n",
    "print(nova_frase.format(ph= \"Henrique Pinto\"))\n",
    "\n",
    "# F-STRING\n",
    "nome_completo = \"Smaley Marques\"\n",
    "\n",
    "print(f\"Olá Sr.{nome_completo}\")"
   ]
  }
 ],
 "metadata": {
  "jupytext": {
   "cell_metadata_filter": "-all",
   "main_language": "python",
   "notebook_metadata_filter": "-all"
  },
  "kernelspec": {
   "display_name": "base",
   "language": "python",
   "name": "python3"
  },
  "language_info": {
   "codemirror_mode": {
    "name": "ipython",
    "version": 3
   },
   "file_extension": ".py",
   "mimetype": "text/x-python",
   "name": "python",
   "nbconvert_exporter": "python",
   "pygments_lexer": "ipython3",
   "version": "3.12.7"
  }
 },
 "nbformat": 4,
 "nbformat_minor": 5
}

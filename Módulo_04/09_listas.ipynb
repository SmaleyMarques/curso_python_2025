{
 "cells": [
  {
   "cell_type": "markdown",
   "id": "6537b59a",
   "metadata": {},
   "source": [
    "## Listas no Python\n",
    "\n",
    "### Características:\n",
    "\n",
    "- Conjunto de Valores\n",
    "- Ordenado - A ordem define o índice dos elementos\n",
    "- Heretogênio - Comporta quaisquer tipos de dados como elemento, inclusive listas\n",
    "- Mutavél - Comporta mudanças naturalmente\n",
    "- Aceita valores repetidos"
   ]
  },
  {
   "cell_type": "code",
   "execution_count": 3,
   "id": "3bf12dd6",
   "metadata": {},
   "outputs": [
    {
     "name": "stdout",
     "output_type": "stream",
     "text": [
      "[]\n",
      "<class 'list'>\n",
      "[]\n",
      "<class 'list'>\n"
     ]
    }
   ],
   "source": [
    "# Criação\n",
    "\n",
    "lista_A = list() # Explícta\n",
    "lista_B = [] # Literal\n",
    "\n",
    "print(lista_A, type(lista_A), lista_B, type(lista_B), sep=\"\\n\")"
   ]
  },
  {
   "cell_type": "code",
   "execution_count": 5,
   "id": "d6085f45",
   "metadata": {
    "lines_to_next_cell": 0
   },
   "outputs": [
    {
     "name": "stdout",
     "output_type": "stream",
     "text": [
      "[1, 2, 3, 4, 5, 6, 7, 8, 9, 0] \n",
      " ['a', 'e', 'i', 'o', 'u']\n",
      "<class 'list'>\n",
      "<class 'list'>\n",
      "['Smaley', 'Marques', True, '13 anos', 2, 1.7, 130] \n",
      " <class 'list'>\n"
     ]
    }
   ],
   "source": [
    "# Exemplos:\n",
    "\n",
    "numeros = [1,2,3,4,5,6,7,8,9,0]\n",
    "vogais = ['a', 'e', 'i', 'o', 'u']\n",
    "\n",
    "print(numeros, \"\\n\", vogais)\n",
    "print(type(numeros))\n",
    "print(type(vogais))\n",
    "\n",
    "caracteristicas = [\n",
    "                    'Smaley',\n",
    "                    'Marques',\n",
    "                    True,\n",
    "                    '13 anos',\n",
    "                    2,\n",
    "                    1.7,\n",
    "                    130                     \n",
    "]\n",
    "\n",
    "print(caracteristicas, '\\n', type(caracteristicas))"
   ]
  },
  {
   "cell_type": "code",
   "execution_count": 6,
   "id": "98e05179",
   "metadata": {
    "lines_to_next_cell": 0
   },
   "outputs": [
    {
     "name": "stdout",
     "output_type": "stream",
     "text": [
      "Primeiro nome:  Smaley\n",
      "Último nome:  Marques\n",
      "Casado:  True\n",
      "Tempo de Casado:  13 anos\n",
      "Quantidade de filhos:  2\n",
      "Altura:  1.7\n",
      "Peso:  130\n",
      "O Último elemento da lista é: 130\n"
     ]
    }
   ],
   "source": [
    "# Acessando Elementos\n",
    "\n",
    "print(\"Primeiro nome: \", caracteristicas[0])\n",
    "print(\"Último nome: \", caracteristicas[1])\n",
    "print(\"Casado: \", caracteristicas[2])\n",
    "print(\"Tempo de Casado: \", caracteristicas[3])\n",
    "print(\"Quantidade de filhos: \", caracteristicas[4])\n",
    "print(\"Altura: \", caracteristicas[5])\n",
    "print(\"Peso: \", caracteristicas[6])\n",
    "\n",
    "\n",
    "print(\"O Último elemento da lista é:\", caracteristicas[-1])"
   ]
  },
  {
   "cell_type": "code",
   "execution_count": 7,
   "id": "05e202d2",
   "metadata": {},
   "outputs": [
    {
     "name": "stdout",
     "output_type": "stream",
     "text": [
      "Nome dos filhos: ['Evelyn', 'Kevin']\n",
      "Primeiro filho: Evelyn\n",
      "Segundo filho: Kevin\n"
     ]
    }
   ],
   "source": [
    "# Listas dentro de Listas\n",
    "\n",
    "caracteristicas = [\n",
    "                        'Smaley',\n",
    "                        'Marques',\n",
    "                        True,\n",
    "                        '13 anos',\n",
    "                        2,\n",
    "                        ['Evelyn', 'Kevin'],\n",
    "                        1.7,\n",
    "                        130                     \n",
    "                        ]\n",
    "\n",
    "print(\"Nome dos filhos:\", caracteristicas[5])\n",
    "print(\"Primeiro filho:\", caracteristicas[5][0])\n",
    "print(\"Segundo filho:\", caracteristicas[5][1])"
   ]
  },
  {
   "cell_type": "code",
   "execution_count": null,
   "id": "f43daa23",
   "metadata": {},
   "outputs": [
    {
     "name": "stdout",
     "output_type": "stream",
     "text": [
      "Esta é 'lista':  []\n",
      "Esta é 'nova_lista':  [1, 2, 3, 2, 5]\n",
      "Concatenando 'lista' com 'nova_lista' usando '+':  [1, 2, 3, 2, 5]\n",
      "Repetindo 'nova_lista' usando '*2' :  [1, 2, 3, 2, 5, 1, 2, 3, 2, 5]\n",
      "Acrescentando '4' em 'lista' com método 'append(4)':  [1, 2, 3, 2, 5, 4]\n",
      "Extendendo 'lista' com 'nova_lista' usando método 'extend(novalista)':  [1, 2, 3, 2, 5, 4, 1, 2, 3, 2, 5, 1, 2, 3, 2, 5]\n",
      "Contando ocorrências do elemento '2' em 'lista' com método 'count(2)':  6\n",
      "Ordenando 'lista' com método 'sort()':  [1, 1, 1, 2, 2, 2, 2, 2, 2, 3, 3, 3, 4, 5, 5, 5]\n",
      "Invertendo 'lista' com método 'reverse()':  [5, 5, 5, 4, 3, 3, 3, 2, 2, 2, 2, 2, 2, 1, 1, 1]\n",
      "Deletando o primeiro elemento de 'nova_lista' com função 'del':  [2, 3, 2, 5, 1, 2, 3, 2, 5]\n",
      "Removendo o último elemento de 'nova_lista' com método 'pop()': [2, 3, 2, 5, 1, 2, 3, 2]\n",
      "Removendo o primeiro elemento de 'nova_lista' com método 'pop(0)': [3, 2, 5, 1, 2, 3, 2]\n",
      "Removendo a primeira ocorrencia do elemento '2' de 'lista' com método 'remove(2)': [5, 5, 5, 4, 3, 3, 3, 2, 2, 2, 2, 2, 1, 1, 1]\n",
      "Copiando 'lista' com método 'copy()':  [5, 5, 5, 4, 3, 3, 3, 2, 2, 2, 2, 2, 1, 1, 1]\n",
      "Limpando 'lista2' com método 'clear()':  []\n"
     ]
    }
   ],
   "source": [
    "# Manipulando Listas\n",
    "\n",
    "lista = [] # Lista Vazia\n",
    "print(\"Esta é 'lista': \", lista)\n",
    "\n",
    "nova_lista = [1,2,3,2,5]\n",
    "print(\"Esta é 'nova_lista': \", nova_lista)\n",
    "\n",
    "lista = lista + nova_lista # Concatenando Listas\n",
    "print(\"Concatenando 'lista' com 'nova_lista' usando '+': \",lista)\n",
    "\n",
    "nova_lista = nova_lista * 2 # Repetindo Listas\n",
    "print(\"Repetindo 'nova_lista' usando '*2' : \", nova_lista)\n",
    "\n",
    "lista.append(4) # Acrescentando Listas\n",
    "print(\"Acrescentando '4' em 'lista' com método 'append(4)': \",lista)\n",
    "\n",
    "lista.extend(nova_lista) # Extendendo Listas\n",
    "print(\"Extendendo 'lista' com 'nova_lista' usando método 'extend(novalista)': \",lista)\n",
    "\n",
    "# Conta ocorrências de elemento\n",
    "print(\"Contando ocorrências do elemento '2' em 'lista' com método 'count(2)': \",lista.count(2))\n",
    "\n",
    "lista.sort() # Ordena Lista\n",
    "print(\"Ordenando 'lista' com método 'sort()': \", lista)\n",
    "\n",
    "lista.reverse() # Inverte Lista\n",
    "print(\"Invertendo 'lista' com método 'reverse()': \", lista)\n",
    "\n",
    "del nova_lista[0] # Deletando o elemento de índice [0]\n",
    "print(\"Deletando o primeiro elemento de 'nova_lista' com função 'del': \", nova_lista)\n",
    "\n",
    "nova_lista.pop() # Removendo elementos no final\n",
    "print(\"Removendo o último elemento de 'nova_lista' com método 'pop()':\", nova_lista)\n",
    "\n",
    "nova_lista.pop(0) # Removendo primeiro elemento\n",
    "print(\"Removendo o primeiro elemento de 'nova_lista' com método 'pop(0)':\", nova_lista)\n",
    "\n",
    "lista.remove(2) # Remove a primeira ocorrência de um elemento\n",
    "print(\"Removendo a primeira ocorrencia do elemento '2' de 'lista' com método 'remove(2)':\", lista)\n",
    "\n",
    "lista2 = lista.copy() # Copia Lista\n",
    "print(\"Copiando 'lista' com método 'copy()': \",lista2)\n",
    "\n",
    "lista2.clear() # Zera Lista\n",
    "print(\"Limpando 'lista2' com método 'clear()': \", lista2)"
   ]
  },
  {
   "cell_type": "code",
   "execution_count": null,
   "id": "a536c9b2",
   "metadata": {
    "lines_to_next_cell": 0
   },
   "outputs": [
    {
     "name": "stdout",
     "output_type": "stream",
     "text": [
      "Soma das idades:  80\n",
      "Quantidade de idades:  4\n",
      "Média das idades:  20.0\n",
      "Maior idade:  32\n",
      "Menor idade:  5\n"
     ]
    }
   ],
   "source": [
    "# Operando Listas\n",
    "\n",
    "idades = [5, 12, 31, 32]\n",
    "\n",
    "print(\"Soma das idades: \", sum(idades))\n",
    "print(\"Quantidade de idades: \", len(idades))\n",
    "print(\"Média das idades: \", sum(idades)/len(idades))\n",
    "print(\"Maior idade: \", max(idades))\n",
    "print(\"Menor idade: \", min(idades))"
   ]
  },
  {
   "cell_type": "code",
   "execution_count": null,
   "id": "b6716fd6",
   "metadata": {
    "lines_to_next_cell": 2
   },
   "outputs": [
    {
     "name": "stdout",
     "output_type": "stream",
     "text": [
      "Primeiros 4 Elementos: [1, 2, 3, 4]\n",
      "3 Elementos do meio: [4, 5, 6]\n",
      "Elementos do 5 em diante: [5, 6, 7, 8, 9]\n",
      "Elementos de 2 em 2: [1, 3, 5, 7, 9]\n",
      "Elementos invertidos: [9, 8, 7, 6, 5, 4, 3, 2, 1]\n"
     ]
    }
   ],
   "source": [
    "# Fatiamento (Start: Stop : Step)\n",
    "listagem = [1,2,3,4,5,6,7,8,9]\n",
    "\n",
    "print(\"Primeiros 4 Elementos:\", listagem[:4])\n",
    "print(\"3 Elementos do meio:\", listagem[3:6])\n",
    "print(\"Elementos do 5 em diante:\", listagem[4:])\n",
    "print(\"Elementos de 2 em 2:\", listagem[::2])\n",
    "print(\"Elementos invertidos:\", listagem[::-1])"
   ]
  },
  {
   "cell_type": "code",
   "execution_count": null,
   "id": "52a54037",
   "metadata": {},
   "outputs": [
    {
     "name": "stdout",
     "output_type": "stream",
     "text": [
      "1\n",
      "2\n",
      "3\n",
      "4\n",
      "5\n",
      "6\n",
      "7\n",
      "8\n",
      "9\n"
     ]
    }
   ],
   "source": [
    "# Percorrendo/Iterando Lista\n",
    "\n",
    "for i in listagem:\n",
    "    print(i)"
   ]
  },
  {
   "cell_type": "markdown",
   "id": "a39244fd",
   "metadata": {},
   "source": [
    "### LIST COMPREHENSION:\n",
    "\n",
    "- Transformação\n",
    "- Iteração\n",
    "- Condição\n",
    "- Uma única linha"
   ]
  },
  {
   "cell_type": "code",
   "execution_count": null,
   "id": "56882a33",
   "metadata": {},
   "outputs": [
    {
     "name": "stdout",
     "output_type": "stream",
     "text": [
      "[2.0, 4.0, 6.0, 8.0, 10.0, 12.0, 14.0, 16.0, 18.0, 20.0] \n",
      "\n",
      "['Smaley', 'Jeniffer', 'Evelyn', 'Kevin']\n"
     ]
    }
   ],
   "source": [
    "# Números Pares de 1 á 20\n",
    "\n",
    "n_pares = [float(x) for x in range(1,21) if x % 2 == 0]\n",
    "\n",
    "print(n_pares, \"\\n\")\n",
    "\n",
    "# Primeiros nomes de uma lista de nomes compostos\n",
    "\n",
    "nomes = ['Smaley Marques', 'Jeniffer Araujo de Amorim Marques', 'Evelyn Amorim Marques', 'Kevin Amorim Marques']\n",
    "\n",
    "p_nomes = [nome.split()[0] for nome in nomes]\n",
    "print(p_nomes)\n",
    "\n"
   ]
  }
 ],
 "metadata": {
  "jupytext": {
   "cell_metadata_filter": "-all",
   "main_language": "python",
   "notebook_metadata_filter": "-all"
  },
  "kernelspec": {
   "display_name": "base",
   "language": "python",
   "name": "python3"
  },
  "language_info": {
   "codemirror_mode": {
    "name": "ipython",
    "version": 3
   },
   "file_extension": ".py",
   "mimetype": "text/x-python",
   "name": "python",
   "nbconvert_exporter": "python",
   "pygments_lexer": "ipython3",
   "version": "3.12.7"
  }
 },
 "nbformat": 4,
 "nbformat_minor": 5
}

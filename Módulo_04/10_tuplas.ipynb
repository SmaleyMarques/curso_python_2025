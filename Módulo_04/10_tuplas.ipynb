{
 "cells": [
  {
   "cell_type": "markdown",
   "id": "6537b59a",
   "metadata": {},
   "source": [
    "## Tuplas no Python\n",
    "\n",
    "### Características:\n",
    "\n",
    "- Conjunto de Valores\n",
    "- Ordenado - A Ordem defini o índices dos elementos\n",
    "- Heretogênio - Comporta quaisquer tipos de dados como elemento, inclusive tuplas\n",
    "- Imutavél - Não comporta mudanças ***Principal distinção de tuplas e as demais estruturas**\n",
    "- Aceita valores repetidos"
   ]
  },
  {
   "cell_type": "code",
   "execution_count": 2,
   "id": "3bf12dd6",
   "metadata": {},
   "outputs": [
    {
     "name": "stdout",
     "output_type": "stream",
     "text": [
      "()\n",
      "<class 'tuple'>\n",
      "()\n",
      "<class 'tuple'>\n"
     ]
    }
   ],
   "source": [
    "# CRIANÇÃO\n",
    "\n",
    "tupla_A = tuple() #Explícta\n",
    "tupla_B = () #Literal\n",
    "\n",
    "print(tupla_A, type(tupla_A), tupla_B, type(tupla_B), sep=\"\\n\")"
   ]
  },
  {
   "cell_type": "code",
   "execution_count": 3,
   "id": "d6085f45",
   "metadata": {
    "lines_to_next_cell": 0
   },
   "outputs": [
    {
     "name": "stdout",
     "output_type": "stream",
     "text": [
      "(1, 2, 3, 4, 5, 6, 7, 8, 9, 0) \n",
      " ('a', 'e', 'i', 'o', 'u')\n",
      "<class 'tuple'>\n",
      "<class 'tuple'>\n",
      "('Smaley', 'Marques', True, '13 anos', 2, 1.7, 130) \n",
      " <class 'tuple'>\n"
     ]
    }
   ],
   "source": [
    "# EXEMPLOS:\n",
    "\n",
    "numeros = (1,2,3,4,5,6,7,8,9,0)\n",
    "vogais = ('a', 'e', 'i', 'o', 'u')\n",
    "\n",
    "print(numeros, \"\\n\", vogais)\n",
    "print(type(numeros))\n",
    "print(type(vogais))\n",
    "\n",
    "caracteristicas = (\n",
    "                    'Smaley',\n",
    "                    'Marques',\n",
    "                    True,\n",
    "                    '13 anos',\n",
    "                    2,\n",
    "                    1.7,\n",
    "                    130                     \n",
    ")\n",
    "\n",
    "print(caracteristicas, '\\n', type(caracteristicas))"
   ]
  },
  {
   "cell_type": "code",
   "execution_count": null,
   "id": "98e05179",
   "metadata": {
    "lines_to_next_cell": 0
   },
   "outputs": [
    {
     "name": "stdout",
     "output_type": "stream",
     "text": [
      "Primeiro nome:  Smaley\n",
      "Último nome:  Marques\n",
      "Casado:  True\n",
      "Tempo de Casado:  13 anos\n",
      "Quantidade de filhos:  2\n",
      "Altura:  1.7\n",
      "Peso:  130\n",
      "O Último elemento da lista é: 130\n"
     ]
    }
   ],
   "source": [
    "#ACESSANDO ELEMENTOS (SEMELHANTE A LISTAS)\n",
    "\n",
    "print(\"Primeiro nome: \", caracteristicas[0])\n",
    "print(\"Último nome: \", caracteristicas[1])\n",
    "print(\"Casado: \", caracteristicas[2])\n",
    "print(\"Tempo de Casado: \", caracteristicas[3])\n",
    "print(\"Quantidade de filhos: \", caracteristicas[4])\n",
    "print(\"Altura: \", caracteristicas[5])\n",
    "print(\"Peso: \", caracteristicas[6])\n",
    "\n",
    "\n",
    "print(\"O Último elemento da lista é:\", caracteristicas[-1])"
   ]
  },
  {
   "cell_type": "code",
   "execution_count": 5,
   "id": "05e202d2",
   "metadata": {},
   "outputs": [
    {
     "name": "stdout",
     "output_type": "stream",
     "text": [
      "Nome dos filhos: ('Evelyn', 'Kevin')\n",
      "Primeiro filho: Evelyn\n",
      "Segundo filho: Kevin\n"
     ]
    }
   ],
   "source": [
    "#...TUPLAS DENTRO DE TUPLAS\n",
    "\n",
    "caracteristicas = (\n",
    "                        'Smaley',\n",
    "                        'Marques',\n",
    "                        True,\n",
    "                        '13 anos',\n",
    "                        2,\n",
    "                        ('Evelyn', 'Kevin'),\n",
    "                        1.7,\n",
    "                        130                     \n",
    "                        )\n",
    "\n",
    "print(\"Nome dos filhos:\", caracteristicas[5])\n",
    "print(\"Primeiro filho:\", caracteristicas[5][0])\n",
    "print(\"Segundo filho:\", caracteristicas[5][1])"
   ]
  },
  {
   "cell_type": "code",
   "execution_count": 7,
   "id": "a536c9b2",
   "metadata": {
    "lines_to_next_cell": 0
   },
   "outputs": [
    {
     "name": "stdout",
     "output_type": "stream",
     "text": [
      "Soma das idades:  80\n",
      "Quantidade de idades:  4\n",
      "Média das idades:  20.0\n",
      "Maior idade:  32\n",
      "Menor idade:  5\n"
     ]
    }
   ],
   "source": [
    "#OPERANDO TUPLAS\n",
    "\n",
    "idades = (5, 12, 31, 32)\n",
    "\n",
    "print(\"Soma das idades: \", sum(idades))\n",
    "print(\"Quantidade de idades: \", len(idades))\n",
    "print(\"Média das idades: \", sum(idades)/len(idades))\n",
    "print(\"Maior idade: \", max(idades))\n",
    "print(\"Menor idade: \", min(idades))"
   ]
  },
  {
   "cell_type": "code",
   "execution_count": 8,
   "id": "b6716fd6",
   "metadata": {
    "lines_to_next_cell": 2
   },
   "outputs": [
    {
     "name": "stdout",
     "output_type": "stream",
     "text": [
      "Primeiros 4 Elementos: (1, 2, 3, 4)\n",
      "3 Elementos do meio: (4, 5, 6)\n",
      "Elementos do 5 em diante: (5, 6, 7, 8, 9)\n",
      "Elementos de 2 em 2: (1, 3, 5, 7, 9)\n",
      "Elementos invertidos: (9, 8, 7, 6, 5, 4, 3, 2, 1)\n"
     ]
    }
   ],
   "source": [
    "#FATIAMENTO (START : STOP: STEP)\n",
    "listagem = (1,2,3,4,5,6,7,8,9)\n",
    "\n",
    "print(\"Primeiros 4 Elementos:\", listagem[:4])\n",
    "print(\"3 Elementos do meio:\", listagem[3:6])\n",
    "print(\"Elementos do 5 em diante:\", listagem[4:])\n",
    "print(\"Elementos de 2 em 2:\", listagem[::2])\n",
    "print(\"Elementos invertidos:\", listagem[::-1])"
   ]
  },
  {
   "cell_type": "code",
   "execution_count": 9,
   "id": "52a54037",
   "metadata": {},
   "outputs": [
    {
     "name": "stdout",
     "output_type": "stream",
     "text": [
      "1\n",
      "2\n",
      "3\n",
      "4\n",
      "5\n",
      "6\n",
      "7\n",
      "8\n",
      "9\n"
     ]
    }
   ],
   "source": [
    "#PERCORRENDO LISTA (ITERANDO)\n",
    "\n",
    "for i in listagem:\n",
    "    print(i)"
   ]
  }
 ],
 "metadata": {
  "jupytext": {
   "cell_metadata_filter": "-all",
   "main_language": "python",
   "notebook_metadata_filter": "-all"
  },
  "kernelspec": {
   "display_name": "base",
   "language": "python",
   "name": "python3"
  },
  "language_info": {
   "codemirror_mode": {
    "name": "ipython",
    "version": 3
   },
   "file_extension": ".py",
   "mimetype": "text/x-python",
   "name": "python",
   "nbconvert_exporter": "python",
   "pygments_lexer": "ipython3",
   "version": "3.12.7"
  }
 },
 "nbformat": 4,
 "nbformat_minor": 5
}

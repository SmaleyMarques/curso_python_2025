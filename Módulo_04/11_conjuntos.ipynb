{
 "cells": [
  {
   "cell_type": "markdown",
   "id": "6537b59a",
   "metadata": {},
   "source": [
    "## Conjuntos no Python\n",
    "\n",
    "### Características:\n",
    "\n",
    "- Conjunto de Valores\n",
    "- Não Ordenado - A ordem não existe ***distinção de conjuntos e as demais estruturas**\n",
    "- Não aceita valores repetidos ***distinção de conjuntos e as demais estruturas**\n",
    "- Heretogênio - Comporta quaisquer tipos de dados como elemento, inclusive conjutos\n",
    "- Mutavél - Comporta mudanças naturalmente"
   ]
  },
  {
   "cell_type": "code",
   "execution_count": 5,
   "id": "3bf12dd6",
   "metadata": {},
   "outputs": [
    {
     "name": "stdout",
     "output_type": "stream",
     "text": [
      "set()\n",
      "<class 'set'>\n",
      "{None}\n",
      "<class 'set'>\n"
     ]
    }
   ],
   "source": [
    "# CRIANÇÃO\n",
    "\n",
    "conjunto_A = set() #Explícta\n",
    "conjunto_B = {None} #Literal (Precisa informar pelo menos um valor)\n",
    "\n",
    "print(conjunto_A, type(conjunto_A), conjunto_B, type(conjunto_B), sep=\"\\n\")"
   ]
  },
  {
   "cell_type": "code",
   "execution_count": null,
   "id": "d6085f45",
   "metadata": {
    "lines_to_next_cell": 0
   },
   "outputs": [
    {
     "name": "stdout",
     "output_type": "stream",
     "text": [
      "{0, 1, 2, 3, 4, 5, 6, 7, 8, 9} \n",
      " {'e', 'a', 'u', 'o', 'i'}\n",
      "<class 'set'>\n",
      "<class 'set'>\n",
      "{True, 2, 'Smaley', 1.7, 130, 'Marques', '13 anos'} \n",
      " <class 'set'>\n",
      "{1} \n",
      " <class 'set'>\n"
     ]
    }
   ],
   "source": [
    "# EXEMPLOS:\n",
    "\n",
    "numeros = {1,2,3,4,5,6,7,8,9,0}\n",
    "vogais = {'a', 'e', 'i', 'o', 'u'}\n",
    "repetidos = {1,1,1,1,1,1,1,1,1,1,1} #PRINCIPAL FUNCIONALIDADE\n",
    "\n",
    "print(numeros, \"\\n\", vogais)\n",
    "print(type(numeros))\n",
    "print(type(vogais))\n",
    "\n",
    "caracteristicas = {\n",
    "                    'Smaley',\n",
    "                    'Marques',\n",
    "                    True,\n",
    "                    '13 anos',\n",
    "                    2,\n",
    "                    1.7,\n",
    "                    130                     \n",
    "}\n",
    "\n",
    "print(caracteristicas, '\\n', type(caracteristicas))\n",
    "print(repetidos, '\\n', type(repetidos))"
   ]
  },
  {
   "cell_type": "code",
   "execution_count": 8,
   "id": "05e202d2",
   "metadata": {},
   "outputs": [
    {
     "name": "stdout",
     "output_type": "stream",
     "text": [
      "['Smaley', 'Marques', True, '13 anos', 2, {'Evelyn', 'Kevin'}, 1.7, 130]\n"
     ]
    }
   ],
   "source": [
    "#...LISTAS DENTRO DE LISTAS\n",
    "\n",
    "caracteristicas = [\n",
    "                        'Smaley',\n",
    "                        'Marques',\n",
    "                        True,\n",
    "                        '13 anos',\n",
    "                        2,\n",
    "                        {'Evelyn', 'Kevin'},\n",
    "                        1.7,\n",
    "                        130                     \n",
    "                        ]\n",
    "\n",
    "print(caracteristicas)"
   ]
  },
  {
   "cell_type": "code",
   "execution_count": null,
   "id": "f43daa23",
   "metadata": {},
   "outputs": [
    {
     "name": "stdout",
     "output_type": "stream",
     "text": [
      "Esta é 'conjunto':  set()\n",
      "Esta é 'novo_conjunto':  {1, 2, 3, 5}\n",
      "Acrescentando '4' em 'conjunto' com método 'add(4)':  {4}\n",
      "Unindo 'conjunto' com 'novo_conjunto' com método 'union(novo_conjunto)':  {1, 2, 3, 4, 5}\n",
      "Capturando interseção entre 'conjunto' e 'novo_conjunto' com método 'intersection(novo_conjunto)':  {1, 2, 3, 5}\n",
      "Capturando diferenciação entre 'conjunto' e 'novo_conjunto' com método 'difference(novo_conjunto)':  {4}\n",
      "Removendo elemento de 'novo_conjunto' com método 'pop()': {2, 3, 5}\n",
      "Copiando 'conjunto' com método 'copy()':  {1, 2, 3, 4, 5}\n",
      "Limpando 'conjunto2' com método 'clear()':  set()\n"
     ]
    }
   ],
   "source": [
    "#MANIPULANDO CONJUNTOS\n",
    "\n",
    "conjunto = set() #CONJUNTO VAZIA\n",
    "print(\"Esta é 'conjunto': \", conjunto)\n",
    "\n",
    "novo_conjunto = {2,1,3,2,5}\n",
    "print(\"Esta é 'novo_conjunto': \", novo_conjunto)\n",
    "\n",
    "conjunto.add(4) #ACRESCENTANDO CONJUNTO\n",
    "print(\"Acrescentando '4' em 'conjunto' com método 'add(4)': \",conjunto)\n",
    "\n",
    "conjunto = conjunto.union(novo_conjunto) #ACRESCENTANDO CONJUNTO\n",
    "print(\"Unindo 'conjunto' com 'novo_conjunto' com método 'union(novo_conjunto)': \",conjunto)\n",
    "\n",
    "subconjunto = conjunto.intersection(novo_conjunto) #MÉTODOS MAIS IMPORTANTES!!\n",
    "print(\"Capturando interseção entre 'conjunto' e 'novo_conjunto' com método 'intersection(novo_conjunto)': \", subconjunto)\n",
    "\n",
    "subconjunto = conjunto.difference(novo_conjunto) #MÉTODOS MAIS IMPORTANTES!!\n",
    "print(\"Capturando diferenciação entre 'conjunto' e 'novo_conjunto' com método 'difference(novo_conjunto)': \", subconjunto)\n",
    "\n",
    "novo_conjunto.pop() #REMOVENDO ELEMENTOS (ARBITRÁRIAMENTE)\n",
    "print(\"Removendo elemento de 'novo_conjunto' com método 'pop()':\", novo_conjunto)\n",
    "\n",
    "conjunto2 = conjunto.copy() #COPIA conjunto\n",
    "print(\"Copiando 'conjunto' com método 'copy()': \",conjunto2)\n",
    "\n",
    "conjunto2.clear() #LIMPA conjunto\n",
    "print(\"Limpando 'conjunto2' com método 'clear()': \", conjunto2)\n"
   ]
  },
  {
   "cell_type": "code",
   "execution_count": 46,
   "id": "a536c9b2",
   "metadata": {
    "lines_to_next_cell": 0
   },
   "outputs": [
    {
     "name": "stdout",
     "output_type": "stream",
     "text": [
      "Soma das idades:  80\n",
      "Quantidade de idades:  4\n",
      "Média das idades:  20.0\n",
      "Maior idade:  32\n",
      "Menor idade:  5\n"
     ]
    }
   ],
   "source": [
    "#OPERANDO CONJUNTOS\n",
    "\n",
    "idades = {5, 12, 31, 32}\n",
    "\n",
    "print(\"Soma das idades: \", sum(idades))\n",
    "print(\"Quantidade de idades: \", len(idades))\n",
    "print(\"Média das idades: \", sum(idades)/len(idades))\n",
    "print(\"Maior idade: \", max(idades))\n",
    "print(\"Menor idade: \", min(idades))"
   ]
  },
  {
   "cell_type": "code",
   "execution_count": 47,
   "id": "52a54037",
   "metadata": {},
   "outputs": [
    {
     "name": "stdout",
     "output_type": "stream",
     "text": [
      "32\n",
      "12\n",
      "5\n",
      "31\n"
     ]
    }
   ],
   "source": [
    "#PERCORRENDO LISTA (ITERANDO)\n",
    "\n",
    "for i in idades:\n",
    "    print(i)"
   ]
  }
 ],
 "metadata": {
  "jupytext": {
   "cell_metadata_filter": "-all",
   "main_language": "python",
   "notebook_metadata_filter": "-all"
  },
  "kernelspec": {
   "display_name": "base",
   "language": "python",
   "name": "python3"
  },
  "language_info": {
   "codemirror_mode": {
    "name": "ipython",
    "version": 3
   },
   "file_extension": ".py",
   "mimetype": "text/x-python",
   "name": "python",
   "nbconvert_exporter": "python",
   "pygments_lexer": "ipython3",
   "version": "3.12.7"
  }
 },
 "nbformat": 4,
 "nbformat_minor": 5
}
